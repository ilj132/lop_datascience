{
  "nbformat": 4,
  "nbformat_minor": 0,
  "metadata": {
    "colab": {
      "name": "Projeto LoP - DataScience.ipynb",
      "provenance": [],
      "collapsed_sections": [
        "WUBAPloS58yP",
        "TjeHFDBfwV5w",
        "oPh-k3-fR_zP",
        "AEJF9bZMSZpk",
        "B4rJ_jPviRsl",
        "DmuLGrPKFv1c",
        "PGR1IWltjEKS",
        "7bW-MMNpvndY"
      ]
    },
    "kernelspec": {
      "name": "python3",
      "display_name": "Python 3.9.0 64-bit",
      "metadata": {
        "interpreter": {
          "hash": "57e1db65e1cfa8678432bf177fe5d41003f42296b764486ff8a019a0e3141ba1"
        }
      }
    },
    "accelerator": "TPU"
  },
  "cells": [
    {
      "cell_type": "markdown",
      "metadata": {
        "id": "YLxXyebtnjM-"
      },
      "source": [
        "\n",
        "\n",
        "# <center>Projeto DataView\n",
        "\n",
        "\n",
        "\n"
      ]
    },
    {
      "cell_type": "markdown",
      "metadata": {
        "id": "mVMECL1jJAxf"
      },
      "source": [
        "### Foi projetado para ter 4 tipos de consultas\n",
        "\n",
        "* A primeira é para receber dados dos professores que estão resgistrados no sistema\n",
        "\n",
        "* A segunda é para receber dados das turmas que estão registradas no sistema\n",
        "\n",
        "* A terceira é para receber dados das submissões que estão registradas no sistema\n",
        "\n",
        "* A quarta é para receber dados das questões que estão registradas no sistema\n",
        "\n",
        "As consultas vão ser tornando acumulativas, com a segunda dependendo de dados da primeira, e a terceira dependendo de dados da primeira e segunda para o preenchimento da url de consulta. Todas as consultas dependem da key de acesso\n",
        "\n",
        "Na consulta da class possui as depedências de: \n",
        "1. id_teacher, que é o id de um professor\n",
        "2. year, que é o ano da turma \n",
        "3. semester, que é o semestre (1 ou 2) da turma\n",
        "\n",
        "E na consulta de submission necessita do:\n",
        "1. id_class, que é o id de uma turma.\n",
        "\n",
        "Já a consulta de question e do teacher necessita apenas da key\n",
        "\n",
        "As consultas serão feitas via protocolo HTTP usando o método Get e irão receber um JSON dos dados do LoP\n"
      ]
    },
    {
      "cell_type": "markdown",
      "metadata": {
        "id": "X2rVvODlKxFz"
      },
      "source": [
        "### Estrutura das funções e suas dependências\n",
        "\n",
        "Funções de coleta e transformações de dados \n",
        "\n",
        "- lop_class(), lop_question()\n",
        "--- lop_submission()\n",
        "------ question_data()\n",
        "--------- performance_list()\n",
        "------------ graph_more_less_70_list_class()\n",
        "------------ graph_distribution_notes_list()\n",
        "\n",
        "Funções de treinamento de modelos de Machine Learning"
      ]
    },
    {
      "source": [
        "### Descrição dos Dados\n",
        "#### <center> Dataframe Submissões\n",
        "| **Semestre** | **Número de atributos (colunas)** | **Número de Registros (linhas)** |\n",
        "| --- | --- | --- |\n",
        "| 2020.5 | xxxx | yyy |\n",
        "| 2020.6 | yyyy | xxx |\n",
        "\n",
        "#### <center>Dataframe Resultados em LOP\n",
        "| **Semestre** | **Número de atributos (colunas)** | **Número de Registros (linhas)** |\n",
        "| --- | --- | --- |\n",
        "| 2020.5 | xxxx | yyyyy |\n",
        "\n",
        "\n",
        "---\n",
        "\n",
        "#### Descrição do datafrane dos professores - Consulta embutida em lop_class()\n",
        "\n",
        "<b>1. id_teacher</b> ID do professor no LoP\n",
        "\n",
        "<b>2. email</b> Email do professor\n",
        "\n",
        "<b>3. name_teacher</b> Nome do professor\n",
        "\n",
        "--- \n",
        "\n",
        "#### Descrição do dataframe das turmas - lop_class()\n",
        "\n",
        "<b>1. id_teacher</b> ID do professor no LoP\n",
        "\n",
        "<b>2. id_class</b> ID da turma\n",
        "\n",
        "<b>3. name_class</b> Nome da turma\n",
        "\n",
        "<b>4. code</b> Código de acesso a turma no LoP\n",
        "\n",
        "<b>5. year</b> Ano em que a turma foi cadastrada\n",
        "\n",
        "<b>6. semester</b> Semestre em que a turma foi cadastrada\n",
        "\n",
        "---\n",
        "#### Descrição dos dataframe de Submissão - lop_submission()\n",
        "\n",
        "\n",
        "<b>1. environment</b> Tipo de máquina\n",
        "\n",
        "<b>2. hitPercentage</b> Porcentagem de acerto na questão\n",
        "\n",
        "<b>3. language</b> Linguagem de programação usada\n",
        "\n",
        "<b>4. char_change_number</b> Número de caracteres alterados\n",
        "\n",
        "<b>5. timeConsuming</b> Tempo que passou na questão\n",
        "\n",
        "<b>6. createdAt</b> Data e hora da submissão\n",
        "\n",
        "<b>7. user</b> Nome e matrícula do aluno\n",
        "\n",
        "<b>8. question</b> Nome da questão\n",
        "\n",
        "<b>9. list</b> Nome da lista\n",
        "\n",
        "<b>10. test</b> Nome da prova\n",
        "\n",
        "<b>11. id_class</b> ID da turma em que o aluno está associado nessa submissão\n",
        "\n",
        "---\n",
        "\n",
        "#### Descrição do dataframe das questões do LoP - lop_question()\n",
        "\n",
        "\n",
        "<b>1. id_questao</b> ID da questão\n",
        "\n",
        "<b>2. question</b> Nome da questão\n",
        "\n",
        "<b>3. difficulty </b> Nível de dificuldade da questão (1-5)\n",
        "\n",
        "<b>4. tags </b> Esse campo vem com um json que contem os assuntos em que essa questão está associada\n",
        "\n",
        "<b>5. lists </b> Esse campo vem com um json que contem as listas que a questão está associada \n",
        "\n",
        "<b>6. tests</b> Esse campo vem com um json que contem as provas que a questão está associada \n",
        "\n",
        "---\n",
        "\n",
        "#### Descrição do dataframe de dados das questões - question_data()\n",
        "\n",
        "\n",
        "<b>1. id_list</b> ID da lista\n",
        "\n",
        "<b>2. list</b> Nome da lista\n",
        "\n",
        "<b>3. question </b> Nome da questão\n",
        "\n",
        "<b>4. difficulty </b> Nível de dificuldade da questão (1-5)\n",
        "\n",
        "<b>5. tags </b> Em cada coluna com nome tag, terá um conteúdo associado a ela\n",
        "\n",
        "---\n",
        "\n",
        "\n",
        "#### Descrição do dataframe de performance por lista - performance_list()\n",
        "\n",
        "\n",
        "<b>1. user</b> Nome e matrícula do aluno\n",
        "\n",
        "<b>2. list</b> Nome da lista\n",
        "\n",
        "<b>3. totalHitPercentage </b> Soma de todos acertos de questões únicas\n",
        "\n",
        "<b>4. totalQuestionsList </b> Número de questões por lista\n",
        "\n",
        "<b>5. mediaList</b> Esse campo vem com um json que contem as provas que a questão está associada \n",
        "\n",
        "---"
      ],
      "cell_type": "markdown",
      "metadata": {}
    },
    {
      "cell_type": "markdown",
      "metadata": {
        "id": "D_S-Ua3YeLmS"
      },
      "source": [
        "## 1. Importação das bibliotecas\n",
        "<a id='importacao'></a>"
      ]
    },
    {
      "cell_type": "code",
      "metadata": {
        "id": "jauxgHcS9nOM"
      },
      "source": [
        "import pandas as pd\n",
        "import numpy as np\n",
        "import json\n",
        "import urllib3\n",
        "urllib3.disable_warnings()\n",
        "import seaborn as sns\n",
        "import matplotlib.pyplot as plt\n",
        "from datetime import datetime\n",
        "import re"
      ],
      "execution_count": 1,
      "outputs": []
    },
    {
      "cell_type": "markdown",
      "metadata": {
        "id": "ZGHrISEE_B3_"
      },
      "source": [
        "## 2. Funções\n",
        "<a id='funcoes'></a>"
      ]
    },
    {
      "source": [
        "### 2.1 Funções de consulta e transformação"
      ],
      "cell_type": "markdown",
      "metadata": {}
    },
    {
      "cell_type": "markdown",
      "metadata": {
        "id": "c8k5ZIKXkEJ_"
      },
      "source": [
        "Função de leitura de arquivos txt"
      ]
    },
    {
      "cell_type": "code",
      "metadata": {
        "id": "zgY9TfQvkCSh"
      },
      "source": [
        "def read_txt(path):\n",
        "  with open(path,'r') as file:\n",
        "    return file.read()"
      ],
      "execution_count": 2,
      "outputs": []
    },
    {
      "cell_type": "markdown",
      "metadata": {
        "id": "1aRrmnVXkm82"
      },
      "source": [
        "Função de consulta no LoP"
      ]
    },
    {
      "cell_type": "code",
      "metadata": {
        "id": "BueEgapukKO8"
      },
      "source": [
        "def lop_consult(url):\n",
        "  http = urllib3.PoolManager()\n",
        "  req = http.request('GET',url)\n",
        "  if req.status == 200:\n",
        "    return pd.read_json(req.data, orient = 'RECORDS', encoding = 'utf-8').copy()\n",
        "  else: \n",
        "    return False"
      ],
      "execution_count": 3,
      "outputs": []
    },
    {
      "cell_type": "markdown",
      "metadata": {
        "id": "zx_SDIJpLayi"
      },
      "source": [
        "Função para obter todas as classes do LoP a partir de uma lista de professores"
      ]
    },
    {
      "cell_type": "code",
      "metadata": {
        "id": "mbL2uxEK0X3M"
      },
      "source": [
        "def lop_class(df_teacher = pd.DataFrame()):\n",
        "  #Essa função se passar por cópia o df_teacher se torna desnecessário fazer a requisição de todas os professores, e evitando fazer varias consultas\n",
        "  #Dataframe onde será armazenado todas as turmas\n",
        "  df_class = pd.DataFrame()\n",
        "  if df_teacher.empty == True:\n",
        "    #Formação da url de consulta para saber os professores cadastrados no LoP\n",
        "    url_teacher = endpoint_teacher + key\n",
        "    #Realizando a consulta no LoP\n",
        "    df_teacher = lop_consult(url_teacher)#id, email, name\n",
        "  #O laço faz uma varredura das turmas de cada professor e por fim armazena em um dataframe de turmas\n",
        "  for id_teacher, name_teacher in zip(df_teacher['id'],df_teacher['name']):\n",
        "    #O LoP.v2 foi desenvolvido em 2019, então temos que capturar as turmas entre 2019 e o ano atual\n",
        "    current_year = datetime.now().year\n",
        "    for year in range(2019, current_year + 1):\n",
        "      #Por fim precisamos do semestre que deve ser 1 ou 2\n",
        "      for semester in range(1,3): \n",
        "        try:\n",
        "          #Url de consulta de classes\n",
        "          url_class = endpoint_class + id_teacher + '?year=' + str(year) + '&semester=' + str(semester) + '&key=' + key \n",
        "          #Dataframe provisório necessário para capturar o tamanho e saber quantas turmas esse professor tem que estar associado\n",
        "          df_prov = lop_consult(url_class)\n",
        "          #Inserindo o id e o nome do professor no dataframe de turmas\n",
        "          df_prov['id_teacher'] = id_teacher\n",
        "          df_prov['name_teacher'] = name_teacher\n",
        "          #Adicionando turmas conforme novas consultas\n",
        "          df_class = df_class.append(df_prov, ignore_index=True).copy()#id, name, code, year, semester, id_teacher\n",
        "        except:\n",
        "          pass\n",
        "  #Renomeando colunas com nomes semelhantes em todos os DF\n",
        "  df_class.rename(columns={'id':'id_class','name':'name_class'}, inplace = True)\n",
        "  return df_class"
      ],
      "execution_count": 4,
      "outputs": []
    },
    {
      "cell_type": "markdown",
      "metadata": {
        "id": "vVs1I-sChMaS"
      },
      "source": [
        "Função para obter todas as submissões a partir de uma lista de turmas"
      ]
    },
    {
      "cell_type": "code",
      "metadata": {
        "id": "9dqp3HGeFlKC"
      },
      "source": [
        "def lop_submission(df_class = pd.DataFrame()):\n",
        "  #Essa função se passar por cópia o df_class se torna desnecessário fazer a requisição de todas as turmas usando a função lop_class()\n",
        "  #Dataframe onde serão armazenados todas as submissões \n",
        "  df_submission = pd.DataFrame()  \n",
        "  if df_class.empty == True:\n",
        "    df_class = lop_class()  \n",
        "  #Obtem todas as submissões da lista de turmas passadas\n",
        "  for id_class in df_class['id_class']:\n",
        "    #Url da consulta as submissões\n",
        "    url_submission = endpoint_submission + id_class + '/submission?key=' + key\n",
        "    #Dataframe provisório que vai armazenar o resultado da consulta\n",
        "    df_prov = lop_consult(url_submission)\n",
        "    #Inserindo o id_class no dataframe de consultas\n",
        "    df_prov['id_class'] = id_class\n",
        "    #Adicionando submissões conforme consultas\n",
        "    df_submission = df_submission.append(df_prov, ignore_index=True).copy()\n",
        "  #Campo user trás matricula e o nome do usuário, vamos separar em 2 colunas distintas\n",
        "  df_submission[['user','registration']] = df_submission['user'].str.split('-',expand=True)\n",
        "  return df_submission"
      ],
      "execution_count": 5,
      "outputs": []
    },
    {
      "cell_type": "markdown",
      "metadata": {
        "id": "aPYJVKnjA8jn"
      },
      "source": [
        "Função para obter dados das questões cadastradas no LoP"
      ]
    },
    {
      "cell_type": "code",
      "metadata": {
        "id": "OZu9CVgtA70_"
      },
      "source": [
        "def lop_question():\n",
        "  url_question = endpoint_question + key\n",
        "  df_lop_question = lop_consult(url_question)\n",
        "  df_lop_question.rename(columns = {'id':'id_question','title':'question'}, inplace = True)\n",
        "  return df_lop_question"
      ],
      "execution_count": 6,
      "outputs": []
    },
    {
      "cell_type": "markdown",
      "metadata": {
        "id": "KbBdYtwVOXdZ"
      },
      "source": [
        "Função que transforma os dados das questões extraídas do LoP, assim podemos saber a dificuldade de uma questão, que pode estar associada a uma ou mais listas"
      ]
    },
    {
      "cell_type": "code",
      "metadata": {
        "id": "J3pLjztaOWzR"
      },
      "source": [
        "def question_data(df_question = pd.DataFrame()):\n",
        "  #Essa função se passar por cópia o df_question se torna desnecessário fazer a requisição de todas as turmas usando a função lop_question()\n",
        "  #Dataframes onde serão armazenados todas as questões transformadas\n",
        "  df_list_data = pd.DataFrame() \n",
        "  df_test_data = pd.DataFrame() \n",
        "  df_tag_data = pd.DataFrame()  \n",
        "  df_question_data = pd.DataFrame()  \n",
        "  #i=0\n",
        "  if df_question.empty == True:\n",
        "    df_question = lop_question()\n",
        "  for question,lists,tests,tags,difficulty in zip(df_question['question'],df_question['lists'],df_question['tests'],df_question['tags'],df_question['difficulty']):\n",
        "    #Cada registro do json pode ficar com mais de uma lista associada a uma questão, por isso a necessidade de extrair\n",
        "    df_prov_lists  = pd.DataFrame(json.loads(str(lists).replace(\"'\",'\"')))\n",
        "    #Cada registro do json pode ficar com mais de uma lista associada a uma questão, por isso a necessidade de extrair\n",
        "    df_prov_tests  = pd.DataFrame(json.loads(str(tests).replace(\"'\",'\"')))\n",
        "    #df_prov_lists.rename(columns = {'id':'id_list','title':'list'}, inplace = True)\n",
        "    #Inserindo a questão associada\n",
        "    df_prov_lists['question'] = question\n",
        "    df_prov_lists['difficulty'] = difficulty\n",
        "    df_list_data = df_list_data.append(df_prov_lists, ignore_index = True).copy()\n",
        "    #print(df_list_data['question'])\n",
        "    #print(\"numero de questoes unicas no df \",len(df_list_data['question'].unique()))\n",
        "    df_prov_tests['question'] = question\n",
        "    df_prov_tests['difficulty'] = difficulty\n",
        "    df_test_data = df_test_data.append(df_prov_tests, ignore_index = True).copy()\n",
        "    #Extraindo as tags, que vão dizer o conteudo associado\n",
        "    df_prov_tags = pd.DataFrame(json.loads(str(tags).replace(\"'\",'\"'))).T\n",
        "    #Inserindo a questão associada\n",
        "    df_prov_tags['question'] = question    \n",
        "    df_tag_data = df_tag_data.append(df_prov_tags, ignore_index = True).copy()\n",
        "    #print(i,' ------------------  ',question, ' ',difficulty)\n",
        "    #i+=1\n",
        "    #if i == 100:\n",
        "    #  break\n",
        "  \n",
        "  df_list_data.rename(columns = {'id':'id_list','title':'list'}, inplace = True)\n",
        "  df_test_data.rename(columns = {'id':'id_test','title':'test'}, inplace = True)\n",
        "  #print(len(df_list_data['question'].unique()))\n",
        "  #df_list_data['difficulty'] = df_list_data['difficulty'].astype('int')\n",
        "  columns_tags = ['question']\n",
        "  for i in range(len(df_tag_data.columns)-1): columns_tags.append('tag'+str(i+1))\n",
        "  df_tag_data.columns = columns_tags\n",
        "  df_list_data = pd.merge(df_list_data, df_tag_data, on = 'question', how = 'outer')#.fillna(0)\n",
        "  df_test_data = pd.merge(df_test_data, df_tag_data, on = 'question', how = 'outer')#.fillna(0)\n",
        "  return  pd.concat([df_list_data, df_test_data],axis=0).copy()"
      ],
      "execution_count": 7,
      "outputs": []
    },
    {
      "source": [
        "Função que consula no lop dados sobre as listas"
      ],
      "cell_type": "markdown",
      "metadata": {}
    },
    {
      "cell_type": "code",
      "execution_count": 8,
      "metadata": {},
      "outputs": [],
      "source": [
        "def lop_lists(turma):#Turma como dataframe\n",
        "  url_lists = endpoint_lists + data.iloc[0,0] + '/list/all?key=' + key\n",
        "  df_lop_lists = lop_consult(url_lists)\n",
        "  df_lop_lists.rename(columns = {'id':'id_list','title':'list'}, inplace = True)\n",
        "  return df_lop_lists"
      ]
    },
    {
      "source": [
        "### 2.2. Funções referentes a lista"
      ],
      "cell_type": "markdown",
      "metadata": {}
    },
    {
      "cell_type": "markdown",
      "metadata": {
        "id": "jU4EIevUPzqH"
      },
      "source": [
        "Função para avaliar a perfomance por lista"
      ]
    },
    {
      "cell_type": "code",
      "metadata": {
        "id": "3B0Kx6BKPfK6"
      },
      "source": [
        "def performance_list(df_submission):  \n",
        "  #Essa função necessita receber as submissões de uma turma ---------- depois podemos incrementar essa função ao ter uma turma associada e agrupar por elas\n",
        "  #Me traz as porcentagens maximas de acerto por questão\n",
        "  df_performance_list = df_submission.groupby(['user','list','question'])['hitPercentage'].max().reset_index()\n",
        "  #Soma as porcentagens de uma lista unica\n",
        "  df_performance_list = df_performance_list.groupby(['user','list'])['hitPercentage'].sum().reset_index()\n",
        "  #Renomeando para melhorar entendimento\n",
        "  df_performance_list.rename(columns={'hitPercentage':'totalHitPercentage'}, inplace = True)\n",
        "  #Usando a função de dados de questão para ter informações sobre que questões estão associadas a lista\n",
        "  df_question_data = question_data()\n",
        "  #Agrupa por lista e questão para ter apenas uma questão de cada, a operação não importa muito, apenas existe para completar o agrupamento --------- pode ser uma boa trocar por drop_duplicates\n",
        "  df_question_data = df_question_data.groupby(['list','question'])['id_list'].count().reset_index()\n",
        "  #Conta quantas questões tem por lista\n",
        "  df_question_data = df_question_data.groupby(['list'])['question'].count().reset_index()\n",
        "  #Renomeando lista\n",
        "  df_question_data.rename(columns={'question':'totalQuestionsList'}, inplace = True)\n",
        "  #Merge\n",
        "  df_performance_list = df_performance_list.merge(df_question_data, on = 'list')\n",
        "  #Média de acerto por lista\n",
        "  df_performance_list['mediaList'] = df_performance_list['totalHitPercentage'] / df_performance_list['totalQuestionsList']\n",
        "  return df_performance_list"
      ],
      "execution_count": 9,
      "outputs": []
    },
    {
      "cell_type": "markdown",
      "metadata": {
        "id": "R7lq048T5cvn"
      },
      "source": [
        "Função do gráfico de barras que, por lista, faz a contagem de quem fez mais e menos de 70% da lista. Necessita de passar a performance do aluno por lista"
      ]
    },
    {
      "cell_type": "code",
      "metadata": {
        "id": "btbzysrv5cF6"
      },
      "source": [
        "def graph_more_less_70_list_class(df_performance_list):\n",
        "  #Aqui eu conto, por lista, quantos tiraram mais de 70% de acerto\n",
        "  df_more70 = df_performance_list[df_performance_list['mediaList'] >= 70.0].groupby('list')['mediaList'].count().reset_index(name='more70')\n",
        "  #E nesse conta quantos tiveram menos de 70%\n",
        "  df_less70 = df_performance_list[df_performance_list['mediaList'] < 70.0].groupby('list')['mediaList'].count().reset_index(name='less70')\n",
        "  #Aqui junta ambos os dataframes, usando o outer, que, se por acaso não tiver uma ocorrência de uma lista em um dos dataframes, mesmo assim eles vão ser adicionados, é união dos conjuntos\n",
        "  df_less_more_70 = pd.merge(df_more70, df_less70, on = 'list', how = 'outer')\n",
        "  #E, se caso acontecer a situação de um não existir, substituimos o nan por 0\n",
        "  df_less_more_70.replace(np.NaN, 0, inplace = True)\n",
        "  return df_less_more_70.to_json('df_less_more_70.json',force_ascii=False, orient='records') #############3 por hora essa função tamebm esta realizando downlaod"
      ],
      "execution_count": 10,
      "outputs": []
    },
    {
      "cell_type": "markdown",
      "metadata": {
        "id": "ibCTW9blyG0b"
      },
      "source": [
        "Função do grafico de distribuição de notas por lista. Necessita da performance do  "
      ]
    },
    {
      "cell_type": "code",
      "metadata": {
        "id": "xmX_TtzQALyR"
      },
      "source": [
        "def graph_distribution_notes_list(df_performance_list):\n",
        "  #Agrupa por lista, e conta as ocorrências\n",
        "  return df_performance_list.groupby('list')['mediaList'].apply(lambda group: group.values.tolist()).to_json('df_distribuition_notes_list.json',force_ascii=False,orient='index')"
      ],
      "execution_count": 11,
      "outputs": []
    },
    {
      "cell_type": "code",
      "metadata": {
        "id": "G1VoaP7uTjbf"
      },
      "source": [
        "def select_questions(df_question_data,df_lop_lists):\n",
        "  #Selecionando onde List não é NaN\n",
        "  df_prov1 = df_question_data.dropna(subset=['list'])#.fillna(0)\n",
        "  #Selecionando onde Test não é NaN\n",
        "  #df_prov2 = df_question_data.dropna(subset=['test'])#.fillna(0)\n",
        "  #Concatenação para permitir um loc que busque em todas as instancias\n",
        "  pat1 = '|'.join(['({})'.format(re.escape(c)) for c in list(df_lop_lists['id_list'])])\n",
        "  #pat2 = '|'.join(['({})'.format(re.escape(c)) for c in provas_escolhidas])\n",
        "  #Busca\n",
        "  df_prov1 = df_prov1.loc[df_prov1['id_list'].str.contains(pat1)].copy()\n",
        "  #df_prov2 = df_prov2.loc[df_prov2['test'].str.contains(pat2)].copy()\n",
        "  #return pd.concat([df_prov1, df_prov2],axis=0).copy()\n",
        "  return df_prov1"
      ],
      "execution_count": 12,
      "outputs": []
    },
    {
      "source": [
        "### 2.3. Funções referentes a dificuldade"
      ],
      "cell_type": "markdown",
      "metadata": {}
    },
    {
      "source": [
        "Função que faz o cálculo da performance dos alunos por dificuldade e retorna um dataframe. É necessário passar por parâmetro uma turma e uma variável bool com valor True(para Prova) ou False(para Lista)"
      ],
      "cell_type": "markdown",
      "metadata": {}
    },
    {
      "cell_type": "code",
      "execution_count": 13,
      "metadata": {},
      "outputs": [],
      "source": [
        "def df_difficulty_performance (turma, prova = False):\n",
        "\n",
        "  df_submissions = lop_submission(pd.DataFrame(turma, columns = ['id_class'])) # carregando dados de submissões da turma\n",
        "  df_questions = select_questions(question_data(),listas_escolhidas,provas_escolhidas) # carregando dados de questões selecionadas\n",
        "  \n",
        "  if (prova): # filtro de provas \n",
        "    df_questions = df_questions.dropna(subset=['test']).fillna(0)\n",
        "  else:\n",
        "    df_questions = df_questions.dropna(subset=['list']).fillna(0)\n",
        "\n",
        "  df_geral = pd.merge(df_submissions,df_questions, on = \"question\", how = \"inner\") # juntando os dataframes de submissões e questões\n",
        "  df_difficulty_performance = df_geral.groupby(['user','registration','question','difficulty'])['hitPercentage'].max().reset_index() # pegando o máximo de HitPercentage de cada aluno\n",
        "  df_difficulty_performance = df_difficulty_performance.groupby(['user','registration','difficulty'])['hitPercentage'].sum().reset_index() # fazendo a soma dos máximos\n",
        "  df_difficulty_performance.rename(columns={'hitPercentage':'totalHitPercentage'},inplace = True) # renomeando coluna 'hitPercentage'\n",
        "\n",
        "  df_questions = df_questions.groupby(['question','difficulty']).count().reset_index() # agrupando por questão e dificuldade\n",
        "  df_questions = df_questions.groupby(['difficulty'])['question'].count().reset_index() # contando quantas questões por dificuldade existem\n",
        "  df_questions.rename(columns={'question':'totalQuestions'},inplace=True) # renomeando coluna 'question'\n",
        "\n",
        "\n",
        "  df_difficulty_performance = addData(df_difficulty_performance, df_difficulty_performance['difficulty'].unique(), df_difficulty_performance['user'].unique()  ) # chamando função para adicionar dados faltantes\n",
        "  df_difficulty_performance = df_difficulty_performance.merge(df_questions, on = 'difficulty', how = 'outer') # juntando o dataframe principal com o de contagem de questões\n",
        "  df_difficulty_performance.replace(np.NaN, 0 , inplace = True)\n",
        "  df_difficulty_performance['averageDifficulty'] = df_difficulty_performance['totalHitPercentage'] / df_difficulty_performance['totalQuestions'] # adicionando coluna da média por dificuldade\n",
        "  df_difficulty_performance = df_difficulty_performance.sort_values(['user','difficulty']) # ordernando o dataframe por nome e dificuldade\n",
        "\n",
        "  return df_difficulty_performance"
      ]
    },
    {
      "source": [
        "Função que retorna o json de estudantes aprovados, reprovados e faltosos de todas as listas passadas pelo professor. É necessário passar por parâmetro uma turma, a nota esperada para aprovação e uma variável bool com valor True(para Prova) ou False(para Lista)"
      ],
      "cell_type": "markdown",
      "metadata": {}
    },
    {
      "cell_type": "code",
      "execution_count": 14,
      "metadata": {},
      "outputs": [],
      "source": [
        "def graph_aprov (turma, nota_esperada, prova = False):\n",
        "\n",
        "  df_class = lop_class() # carregando dados de turmas\n",
        "\n",
        "  if (prova): # filtro de provas\n",
        "    performance_df = df_difficulty_performance(turma, True)\n",
        "  else:\n",
        "    performance_df = df_difficulty_performance(turma, False)\n",
        "\n",
        "  df_aprov = performance_df[performance_df['averageDifficulty']>=nota_esperada].groupby('difficulty')['averageDifficulty'].count().reset_index(name  = 'approved') # contando quantos estudantes estão com a média acima do parâmetro de 'nota_esperada'\n",
        "  df_disaprov= performance_df[performance_df['averageDifficulty']<nota_esperada].groupby('difficulty')['averageDifficulty'].count().reset_index(name = 'disapproved') # contando quantos estudantes estão com a média abaixo do parâmetro de 'nota_esperada'\n",
        "  df_aprov_disaprov = pd.merge(df_aprov, df_disaprov, on='difficulty', how='outer') # juntando os dataframes de aprovados e reprovados\n",
        "  df_aprov_disaprov.replace(np.NaN,0,inplace=True) # substituindo NaN por zeros\n",
        "  df_aprov_disaprov = df_aprov_disaprov[['difficulty','approved','disapproved']] # reorganizando colunas do dataframe\n",
        "\n",
        "  df_turma= df_class.query(\"id_class == {}\".format(turma))[[\"id_class\",\"studentsCount\"]].drop_duplicates().reset_index().drop('index',axis=1) # buscando o numero de alunos matriculados na turma\n",
        "  num_alunos = int(df_turma[\"studentsCount\"][0]) # armazenando em uma variável o valor do numero de alunos matriculados na turma\n",
        "  df_aprov_disaprov['missing'] = num_alunos - (df_aprov_disaprov['approved'] + df_aprov_disaprov['disapproved']) # cálculo de faltosos\n",
        "\n",
        "  df_aprov_disaprov = df_aprov_disaprov.astype(int) # transformando todo o dataframe em int\n",
        "  df_aprov_disaprov = df_aprov_disaprov.sort_values(by='difficulty') # ordernando por dificuldade\n",
        "  df_aprov_disaprov= df_aprov_disaprov.replace({'difficulty': {1:\"Muito Fácil\",2:\"Fácil\", 3:\"Médio\",4:\"Difícil\",5:\"Muito Difícil\"} }) # renomeando as dificuldades para melhor entendimento\n",
        "  return df_aprov_disaprov.to_json('df_aprov_disaprov.json', force_ascii=False, orient='records')"
      ]
    },
    {
      "source": [
        "Função que retorna o json com as médias de cada aluno por dificuldade e também a média da turma naquela dificuldade especifica. É necessário a passagem por parâmetro de uma turma e uma variável bool com valor True(para Prova) ou False(para Lista)"
      ],
      "cell_type": "markdown",
      "metadata": {}
    },
    {
      "cell_type": "code",
      "execution_count": 15,
      "metadata": {},
      "outputs": [],
      "source": [
        "def averagebyDifficulty (turma, prova=False):\n",
        "    \n",
        "    if (prova): # filtro de provas\n",
        "        performance_df = df_difficulty_performance(turma, True)\n",
        "\n",
        "    else:\n",
        "        performance_df = df_difficulty_performance(turma, False)\n",
        "\n",
        "    performance_df.drop(['totalHitPercentage','totalQuestions'],axis=1,inplace=True) # como essas colunas não serão usadas, descartei elas\n",
        "\n",
        "    df_student_averagebyDifficulty = performance_df\n",
        "    df_mean = df_student_averagebyDifficulty.groupby(['difficulty'])['averageDifficulty'].mean().reset_index() # agrupando por dificuldade e fazendo a média da coluna 'averageDifficulty'\n",
        "    df_mean.rename(columns={'averageDifficulty':'classAverage'},inplace=True) # renomeando a coluna para melhor entendimento\n",
        "    df_student_averagebyDifficulty = df_student_averagebyDifficulty.merge(df_mean, how='outer', on='difficulty') # juntando o df principal com o df da média da turma\n",
        "    df_student_averagebyDifficulty = df_student_averagebyDifficulty.sort_values(['user','difficulty']) # ordernando por nome e dificuldade\n",
        "    df_student_averagebyDifficulty.replace({'difficulty': {1:\"Muito Fácil\",2:\"Fácil\", 3:\"Médio\",4:\"Difícil\",5:\"Muito Difícil\"} }, inplace=True) #renomeando as dificuldades para melhor entendimento\n",
        "\n",
        "    return df_student_averagebyDifficulty.to_json('df_student_averagebyDifficulty.json', force_ascii=False, orient='records')"
      ]
    },
    {
      "source": [
        "Função que retorna o json com as média geral do aluno, referente a soma das médias que o aluno obteve em cada dificuldade sobre o número de dificuldades existentes. É necessário a passagem por parâmetro de uma turma e uma variável bool com valor True(para Prova) ou False(para Lista)"
      ],
      "cell_type": "markdown",
      "metadata": {}
    },
    {
      "cell_type": "code",
      "execution_count": 16,
      "metadata": {},
      "outputs": [],
      "source": [
        "def averageAllDifficulty (turma, prova = False ):\n",
        "    \n",
        "    if (prova): # filtro de provas\n",
        "        performance_df = df_difficulty_performance(turma, True)\n",
        "    else:\n",
        "        performance_df = df_difficulty_performance(turma, False)\n",
        "\n",
        "    performance_df.drop(['totalHitPercentage','totalQuestions'],axis=1,inplace=True) # como essas colunas não serão usadas, descartei elas\n",
        "\n",
        "    df_allmean = performance_df.groupby(['user','registration','difficulty','averageDifficulty']).count().reset_index() # agrupando por nome, matricula, dificuldade e média\n",
        "    df_allmean = df_allmean.groupby(['user','registration'])['averageDifficulty'].mean().reset_index() # agrupando por nome e matricula e fazendo a média da turma\n",
        "    df_allmean.rename(columns={'averageDifficulty':'averageAllDifficulty'},inplace=True) # renomeando a coluna para melhor entendimento\n",
        "    return df_allmean.to_json('df_averageAllDifficulty.json', force_ascii=False, orient='records')"
      ]
    },
    {
      "source": [
        "### FUNÇÕES TEMPORÁRIAS"
      ],
      "cell_type": "markdown",
      "metadata": {}
    },
    {
      "source": [
        "Função para adicionar dados faltoso ao dataframe de performance por dificuldade"
      ],
      "cell_type": "markdown",
      "metadata": {}
    },
    {
      "cell_type": "code",
      "execution_count": 17,
      "metadata": {},
      "outputs": [],
      "source": [
        "def addData (df_difficulty_performance, difficulties, students):\n",
        "  new_obs = pd.DataFrame()\n",
        "\n",
        "  for i in df_difficulty_performance.columns.tolist():\n",
        "    new_obs[i]= [np.nan] # preenchendo todas as colunas com NaN\n",
        "  \n",
        "  for student in students:\n",
        "    new_obs[\"user\"] = [student] # modifica o user da primeira linha para o estudante em questao\n",
        "    df_student = df_difficulty_performance[df_difficulty_performance[\"user\"] == student].reset_index().drop('index', axis=1) # filtra apenas pro aluno em questao\n",
        "    diff_questions = list(set(df_student[\"difficulty\"].unique()) ^ set(difficulties)) # cria lista com dificuldades nos quais não houveram submissao do aluno\n",
        "    \n",
        "    if len(diff_questions)>0: # caso haja alguma dificuldade que o aluno não submeteu\n",
        "      try:\n",
        "        registration = df_student[\"registration\"].iloc[0] # adiciona matricula\n",
        "      except:\n",
        "        break\n",
        "      for difficulty in diff_questions:\n",
        "        new_obs[\"difficulty\"] = [difficulty] # modifica dificuldade\n",
        "        new_obs[\"registration\"] = [registration] # modifica a matricula\n",
        "        df_difficulty_performance = df_difficulty_performance.append(new_obs, ignore_index = True) # adiciona uma linha ao df original com a informação de user, registration e dificuldade\n",
        "  return df_difficulty_performance"
      ]
    },
    {
      "cell_type": "markdown",
      "metadata": {
        "id": "dD1-lyVuizPA"
      },
      "source": [
        "## 3. Leitura da Base\n",
        "<a id='leiturabase'></a>\n",
        "### 3.1. Leitura de endpoints e key"
      ]
    },
    {
      "cell_type": "code",
      "metadata": {
        "id": "syfUfm4xQz82"
      },
      "source": [
        "key = read_txt('key.txt')\n",
        "endpoint_teacher = read_txt('endpoint_teacher.txt')\n",
        "endpoint_class = read_txt('endpoint_class.txt')\n",
        "endpoint_submission = read_txt('endpoint_submission.txt')\n",
        "endpoint_question = read_txt('endpoint_question.txt')     \n",
        "endpoint_lists = read_txt('endpoint_lists.txt')"
      ],
      "execution_count": 18,
      "outputs": []
    },
    {
      "source": [
        "## 4. Sandbox \n",
        "\n",
        "Nessa seção é feito uma exploração dos dados para criação de funções"
      ],
      "cell_type": "markdown",
      "metadata": {}
    },
    {
      "cell_type": "code",
      "metadata": {
        "id": "TTdxLTcRTlnP"
      },
      "source": [
        "listas_escolhidas = ['Laboratório 01 - Expressões Aritméticas',\n",
        "\n",
        "'Aula - Introdução Expressões Aritiméticas',\n",
        "\n",
        "'Aula - Funções Aritméticas',\n",
        "\n",
        "'Treinamento - Expressões Aritméticas',\n",
        "\n",
        "'(Lop) Lista de Laboratório 2 - Estrutura de decisão',\n",
        "\n",
        "'(Lop) Estruturas de decisão - problemas sobre divisibilidade',\n",
        "\n",
        "'(Lop) Estruturas de decisão - Múltiplas decisões',\n",
        "\n",
        "'(Lop) Estruturas de decisão - Operadores Lógicos',\n",
        "\n",
        "'Repetição condicional - Lista Resolvida (LOP)',\n",
        "\n",
        "'Repetição condicional - Lista Prática (LOP)',\n",
        "\n",
        "'Repetição condicional - Lista de Exercícios (LOP)',\n",
        "\n",
        "'Repetição contada - Lista Resolvida (LOP)',\n",
        "\n",
        "'Repetição contada - Lista Prática (LOP)',\n",
        "\n",
        "'Repetição contada - Lista de Exercícios (LOP)',\n",
        "\n",
        "'Vetores - Lista Resolvida (LOP)',\n",
        "\n",
        "'Vetores - Lista de Exercícios (LOP)',\n",
        "\n",
        "'Vetores - Lista Prática (LOP)']\n",
        "\n",
        "provas_escolhidas = ['Prova LoP - Turma 05 - 2020.6']"
      ],
      "execution_count": 19,
      "outputs": []
    },
    {
      "cell_type": "code",
      "metadata": {
        "id": "2nRWOmQfg4I1"
      },
      "source": [
        "turma = ['8394d1cb-86b5-4b90-bc62-4b9b192a81f6']"
      ],
      "execution_count": 104,
      "outputs": []
    },
    {
      "cell_type": "code",
      "execution_count": null,
      "metadata": {},
      "outputs": [],
      "source": [
        "lop_class().to_csv('df_class.csv')\n",
        "df_class = pd.read_csv('df_class.csv')"
      ]
    },
    {
      "cell_type": "code",
      "execution_count": null,
      "metadata": {},
      "outputs": [],
      "source": [
        "data = pd.DataFrame(['8394d1cb-86b5-4b90-bc62-4b9b192a81f6'], columns = ['id_class'])"
      ]
    },
    {
      "source": [
        "Preparando os dados que serão utilizados"
      ],
      "cell_type": "markdown",
      "metadata": {}
    },
    {
      "source": [
        "O objetivo da sprint dessa vez é estudar quanto cada questão demora para ser resolvida, a ideia é pegar o tempo máximo de tempo que um único usuário levou para resolver a questão e também o número máximo de dias diferentes que um usuário submeteu essa questão. \n",
        "\n",
        "Colunas do Dataframe:\n",
        "\n",
        "Questão | Dificuldade | TempoMaximoGasto | MaximoDiasDiferentesSubmissão"
      ],
      "cell_type": "markdown",
      "metadata": {}
    },
    {
      "cell_type": "code",
      "execution_count": 21,
      "metadata": {},
      "outputs": [],
      "source": [
        "df_submission = lop_submission(pd.DataFrame(turma, columns = ['id_class']))"
      ]
    },
    {
      "cell_type": "code",
      "metadata": {
        "colab": {
          "base_uri": "https://localhost:8080/",
          "height": 589
        },
        "id": "E1C4G4HsMSTN",
        "outputId": "5bbd55cd-eae8-4246-9e1d-313ab8323ab9"
      },
      "source": [
        "#df_questions = select_questions(question_data(),listas_escolhidas,provas_escolhidas)\n",
        "df_questions = question_data()"
      ],
      "execution_count": 22,
      "outputs": []
    },
    {
      "cell_type": "code",
      "execution_count": 23,
      "metadata": {},
      "outputs": [],
      "source": [
        "df_questionsCount = df_questions.groupby(['question','list']).count().reset_index()\n",
        "df_questionsCount = df_questionsCount.groupby(['list'])['question'].count().reset_index()"
      ]
    },
    {
      "cell_type": "code",
      "execution_count": 24,
      "metadata": {},
      "outputs": [],
      "source": [
        "df_submission = df_submission.merge(df_questions[:][['question','difficulty']], on = 'question', how = 'inner')\n",
        "#df_submission[:]['tag1'].replace(np.NaN, 'ASSUNTO_EM_BRANCO', inplace= True)"
      ]
    },
    {
      "cell_type": "code",
      "execution_count": 25,
      "metadata": {},
      "outputs": [],
      "source": [
        "colunasDif = ['timeConsuming','createdAt','question','difficulty','user','registration']"
      ]
    },
    {
      "cell_type": "code",
      "execution_count": 26,
      "metadata": {},
      "outputs": [],
      "source": [
        "df_submission = df_submission[df_submission.timeConsuming>0][colunasDif].sort_values(by=['difficulty'])"
      ]
    },
    {
      "source": [
        "Desenvolvendo a coluna de máximo de dias diferentes para cada questão"
      ],
      "cell_type": "markdown",
      "metadata": {}
    },
    {
      "cell_type": "code",
      "execution_count": 27,
      "metadata": {},
      "outputs": [],
      "source": [
        "from datetime import datetime"
      ]
    },
    {
      "cell_type": "code",
      "execution_count": 28,
      "metadata": {},
      "outputs": [],
      "source": [
        "df_submission['createdAt'] = pd.to_datetime(df_submission['createdAt'])"
      ]
    },
    {
      "cell_type": "code",
      "execution_count": 29,
      "metadata": {},
      "outputs": [],
      "source": [
        "df_submission['dateSubmission'] = df_submission['createdAt'].dt.date"
      ]
    },
    {
      "cell_type": "code",
      "execution_count": 30,
      "metadata": {},
      "outputs": [],
      "source": [
        "df_teste = df_submission[df_submission.timeConsuming>0].drop(['createdAt','timeConsuming'],axis =1).drop_duplicates()"
      ]
    },
    {
      "cell_type": "code",
      "execution_count": 31,
      "metadata": {},
      "outputs": [],
      "source": [
        "df_teste = df_teste.groupby(['user','registration','question','difficulty']).count().reset_index()"
      ]
    },
    {
      "cell_type": "code",
      "execution_count": 32,
      "metadata": {},
      "outputs": [],
      "source": [
        "df_maxDifferentDays = df_teste[:][['question','difficulty','dateSubmission']].groupby(['question','difficulty']).max().sort_values(by=['difficulty','dateSubmission']).rename(columns = {'dateSubmission':'MaxDifferentDays'}).reset_index()"
      ]
    },
    {
      "source": [
        "Desenvolvendo a coluna de máximo de tempo gasto para cada questão"
      ],
      "cell_type": "markdown",
      "metadata": {}
    },
    {
      "cell_type": "code",
      "execution_count": 33,
      "metadata": {},
      "outputs": [],
      "source": [
        "df_teste2 =df_submission[df_submission.timeConsuming>0].drop(['createdAt','dateSubmission'], axis =1)\n",
        "df_teste2 ['timeConsuming'] = df_teste2['timeConsuming'].divide(1000).astype(int)"
      ]
    },
    {
      "cell_type": "code",
      "execution_count": 34,
      "metadata": {},
      "outputs": [],
      "source": [
        "df_teste2 = df_teste2.groupby(['user','registration','question','difficulty']).sum().reset_index()"
      ]
    },
    {
      "cell_type": "code",
      "execution_count": 35,
      "metadata": {},
      "outputs": [],
      "source": [
        "df_maxTimeConsuming = df_teste2.groupby(['question','difficulty']).max().drop(['user','registration'],axis=1).sort_values(by=['difficulty','timeConsuming']).rename(columns = {'timeConsuming':'maxTimeConsumingInSeconds'}).reset_index()"
      ]
    },
    {
      "cell_type": "code",
      "execution_count": 36,
      "metadata": {},
      "outputs": [],
      "source": [
        " #merge dos dois dfs\n",
        " df_maxConsuming = pd.merge(df_maxTimeConsuming, df_maxDifferentDays[['question','MaxDifferentDays']], on = 'question')\n",
        " "
      ]
    },
    {
      "cell_type": "code",
      "execution_count": 37,
      "metadata": {},
      "outputs": [
        {
          "output_type": "execute_result",
          "data": {
            "text/plain": [
              "                                           question  difficulty  \\\n",
              "0                                Contando de 2 em 2         1.0   \n",
              "1                     Duas ou mais condições com &&         1.0   \n",
              "2                 Categorias de natação com 4 casos         1.0   \n",
              "3                         Preenchimento de vetor II         1.0   \n",
              "4                   Calculando expressões - parte 3         1.0   \n",
              "..                                              ...         ...   \n",
              "121                           Qual o dia da semana?         4.0   \n",
              "122           Raízes de uma equação de segundo grau         4.0   \n",
              "123  Divisível por 3 e por 4 - versão mais complexa         4.0   \n",
              "124                               Soma de fatoriais         5.0   \n",
              "125                                     Data válida         5.0   \n",
              "\n",
              "     maxTimeConsumingInSeconds  MaxDifferentDays  \n",
              "0                          699                 2  \n",
              "1                         1090                 1  \n",
              "2                         1566                 1  \n",
              "3                         1629                 1  \n",
              "4                         1874                 4  \n",
              "..                         ...               ...  \n",
              "121                      84591                 8  \n",
              "122                      97242                 4  \n",
              "123                     158848                 4  \n",
              "124                      22966                 3  \n",
              "125                    1972672                 5  \n",
              "\n",
              "[126 rows x 4 columns]"
            ],
            "text/html": "<div>\n<style scoped>\n    .dataframe tbody tr th:only-of-type {\n        vertical-align: middle;\n    }\n\n    .dataframe tbody tr th {\n        vertical-align: top;\n    }\n\n    .dataframe thead th {\n        text-align: right;\n    }\n</style>\n<table border=\"1\" class=\"dataframe\">\n  <thead>\n    <tr style=\"text-align: right;\">\n      <th></th>\n      <th>question</th>\n      <th>difficulty</th>\n      <th>maxTimeConsumingInSeconds</th>\n      <th>MaxDifferentDays</th>\n    </tr>\n  </thead>\n  <tbody>\n    <tr>\n      <th>0</th>\n      <td>Contando de 2 em 2</td>\n      <td>1.0</td>\n      <td>699</td>\n      <td>2</td>\n    </tr>\n    <tr>\n      <th>1</th>\n      <td>Duas ou mais condições com &amp;&amp;</td>\n      <td>1.0</td>\n      <td>1090</td>\n      <td>1</td>\n    </tr>\n    <tr>\n      <th>2</th>\n      <td>Categorias de natação com 4 casos</td>\n      <td>1.0</td>\n      <td>1566</td>\n      <td>1</td>\n    </tr>\n    <tr>\n      <th>3</th>\n      <td>Preenchimento de vetor II</td>\n      <td>1.0</td>\n      <td>1629</td>\n      <td>1</td>\n    </tr>\n    <tr>\n      <th>4</th>\n      <td>Calculando expressões - parte 3</td>\n      <td>1.0</td>\n      <td>1874</td>\n      <td>4</td>\n    </tr>\n    <tr>\n      <th>...</th>\n      <td>...</td>\n      <td>...</td>\n      <td>...</td>\n      <td>...</td>\n    </tr>\n    <tr>\n      <th>121</th>\n      <td>Qual o dia da semana?</td>\n      <td>4.0</td>\n      <td>84591</td>\n      <td>8</td>\n    </tr>\n    <tr>\n      <th>122</th>\n      <td>Raízes de uma equação de segundo grau</td>\n      <td>4.0</td>\n      <td>97242</td>\n      <td>4</td>\n    </tr>\n    <tr>\n      <th>123</th>\n      <td>Divisível por 3 e por 4 - versão mais complexa</td>\n      <td>4.0</td>\n      <td>158848</td>\n      <td>4</td>\n    </tr>\n    <tr>\n      <th>124</th>\n      <td>Soma de fatoriais</td>\n      <td>5.0</td>\n      <td>22966</td>\n      <td>3</td>\n    </tr>\n    <tr>\n      <th>125</th>\n      <td>Data válida</td>\n      <td>5.0</td>\n      <td>1972672</td>\n      <td>5</td>\n    </tr>\n  </tbody>\n</table>\n<p>126 rows × 4 columns</p>\n</div>"
          },
          "metadata": {},
          "execution_count": 37
        }
      ],
      "source": [
        "df_maxConsuming#.to_json('df_MaxConsuming.json', force_ascii=False, orient= 'records')"
      ]
    },
    {
      "cell_type": "code",
      "execution_count": 38,
      "metadata": {},
      "outputs": [],
      "source": [
        "graph_aprov(turma, 70, False)"
      ]
    },
    {
      "cell_type": "code",
      "execution_count": 39,
      "metadata": {},
      "outputs": [],
      "source": [
        "df_questions = select_questions(question_data(),listas_escolhidas,provas_escolhidas)"
      ]
    },
    {
      "cell_type": "code",
      "execution_count": 40,
      "metadata": {},
      "outputs": [],
      "source": [
        "df_questions = df_questions.groupby(['question','difficulty']).count().reset_index() # agrupando por questão e dificuldade\n",
        "df_questions = df_questions.groupby(['difficulty'])['question'].count().reset_index() # contando quantas questões por dificuldade existem\n",
        "df_questions.rename(columns={'question':'totalQuestions'},inplace=True) # renomeando coluna 'question'"
      ]
    },
    {
      "cell_type": "code",
      "execution_count": 41,
      "metadata": {},
      "outputs": [
        {
          "output_type": "execute_result",
          "data": {
            "text/plain": [
              "   difficulty  totalQuestions\n",
              "0         1.0              36\n",
              "1         2.0              49\n",
              "2         3.0              33\n",
              "3         4.0               6\n",
              "4         5.0               2"
            ],
            "text/html": "<div>\n<style scoped>\n    .dataframe tbody tr th:only-of-type {\n        vertical-align: middle;\n    }\n\n    .dataframe tbody tr th {\n        vertical-align: top;\n    }\n\n    .dataframe thead th {\n        text-align: right;\n    }\n</style>\n<table border=\"1\" class=\"dataframe\">\n  <thead>\n    <tr style=\"text-align: right;\">\n      <th></th>\n      <th>difficulty</th>\n      <th>totalQuestions</th>\n    </tr>\n  </thead>\n  <tbody>\n    <tr>\n      <th>0</th>\n      <td>1.0</td>\n      <td>36</td>\n    </tr>\n    <tr>\n      <th>1</th>\n      <td>2.0</td>\n      <td>49</td>\n    </tr>\n    <tr>\n      <th>2</th>\n      <td>3.0</td>\n      <td>33</td>\n    </tr>\n    <tr>\n      <th>3</th>\n      <td>4.0</td>\n      <td>6</td>\n    </tr>\n    <tr>\n      <th>4</th>\n      <td>5.0</td>\n      <td>2</td>\n    </tr>\n  </tbody>\n</table>\n</div>"
          },
          "metadata": {},
          "execution_count": 41
        }
      ],
      "source": [
        "df_questions"
      ]
    },
    {
      "cell_type": "code",
      "execution_count": 43,
      "metadata": {},
      "outputs": [],
      "source": [
        "a= lop_class()"
      ]
    },
    {
      "cell_type": "code",
      "execution_count": 73,
      "metadata": {},
      "outputs": [
        {
          "output_type": "execute_result",
          "data": {
            "text/plain": [
              "'bee7d92a-141d-4657-aeed-b3a2fc60b026'"
            ]
          },
          "metadata": {},
          "execution_count": 73
        }
      ],
      "source": [
        "max(a['id_class'], key=len)"
      ]
    },
    {
      "cell_type": "code",
      "execution_count": 72,
      "metadata": {},
      "outputs": [
        {
          "output_type": "execute_result",
          "data": {
            "text/plain": [
              "36"
            ]
          },
          "metadata": {},
          "execution_count": 72
        }
      ],
      "source": [
        "len(max(a['id_class'], key=len))"
      ]
    },
    {
      "cell_type": "code",
      "execution_count": null,
      "metadata": {},
      "outputs": [],
      "source": [
        "create TABLE lopClass(\n",
        "    id_teacher varchar(36) NOT NULL, -- o maximo foi 36\n",
        "    name_teacher TEXT NOT NULL, -- o maximo foi 37\n",
        "    name_class varchar(56) NOT NULL,  -- o maximo foi 56\n",
        "    code varchar(10) NOT NULL, -- o maximo foi 10\n",
        "    year NUMERIC(5,1) NOT NULL, -- o ano sempre vem no formato '20xx.0'\n",
        "    semester NUMERIC(2,1) NOT NULL, -- o semestre é sempre especificado como '1.0','2.0' etc\n",
        "    studentsCount NUMERIC(4,1) NOT NULL, -- o numero de estudantes, coloquei de tamanho 4 pois as turmas não passam de 130 alunos\n",
        "    teachersCount NUMERIC(2,1) NOT NULL \n",
        ");"
      ]
    },
    {
      "source": [
        "### Dissecando funções\n",
        "A ideia aqui é estudar as otimizações que outros membros fizeram para funções feitas por mim, com o intuito de entender melhor cada otimização e me atualizar de métodos mais eficientes."
      ],
      "cell_type": "markdown",
      "metadata": {}
    },
    {
      "source": [
        "| Funções para estudar | Estudadas |\n",
        "| :--------------------------------------------------- | : --------------------: |\n",
        "| | |\n",
        "| | |\n",
        "| | |\n",
        "| performance_difficulty_list_test | 1 |\n",
        "| graph_more_less_difficulty_list_test_class | 0 |\n",
        "| graph_performance_student_difficulty_list_test | 0 |\n",
        "| media_graph_performance_student_difficulty_list_test | 0 |"
      ],
      "cell_type": "markdown",
      "metadata": {}
    },
    {
      "cell_type": "code",
      "execution_count": 59,
      "metadata": {},
      "outputs": [],
      "source": [
        "def select_questions(df_question_data,df_lop_lists):\n",
        "  #Selecionando onde List não é NaN\n",
        "  df_prov1 = df_question_data.dropna(subset=['list'])#.fillna(0)\n",
        "  #Selecionando onde Test não é NaN\n",
        "  #df_prov2 = df_question_data.dropna(subset=['test'])#.fillna(0)\n",
        "  #Concatenação para permitir um loc que busque em todas as instancias\n",
        "  pat1 = '|'.join(['({})'.format(re.escape(c)) for c in list(df_lop_lists['id_list'])])\n",
        "  #pat2 = '|'.join(['({})'.format(re.escape(c)) for c in provas_escolhidas])\n",
        "  #Busca\n",
        "  df_prov1 = df_prov1.loc[df_prov1['id_list'].str.contains(pat1)].copy()\n",
        "  #df_prov2 = df_prov2.loc[df_prov2['test'].str.contains(pat2)].copy()\n",
        "  #return pd.concat([df_prov1, df_prov2],axis=0).copy()\n",
        "  return df_prov1"
      ]
    },
    {
      "cell_type": "code",
      "execution_count": null,
      "metadata": {},
      "outputs": [],
      "source": [
        "def df_difficulty_performance (turma, prova = False):\n",
        "\n",
        "  df_submissions = lop_submission(pd.DataFrame(turma, columns = ['id_class'])) # carregando dados de submissões da turma\n",
        "  df_questions = select_questions(question_data(),listas_escolhidas,provas_escolhidas) # carregando dados de questões selecionadas\n",
        "  \n",
        "  if (prova): # filtro de provas \n",
        "    df_questions = df_questions.dropna(subset=['test']).fillna(0)\n",
        "  else:\n",
        "    df_questions = df_questions.dropna(subset=['list']).fillna(0)\n",
        "\n",
        "  df_geral = pd.merge(df_submissions,df_questions, on = \"question\", how = \"inner\") # juntando os dataframes de submissões e questões\n",
        "  df_difficulty_performance = df_geral.groupby(['user','registration','question','difficulty'])['hitPercentage'].max().reset_index() # pegando o máximo de HitPercentage de cada aluno\n",
        "  df_difficulty_performance = df_difficulty_performance.groupby(['user','registration','difficulty'])['hitPercentage'].sum().reset_index() # fazendo a soma dos máximos\n",
        "  df_difficulty_performance.rename(columns={'hitPercentage':'totalHitPercentage'},inplace = True) # renomeando coluna 'hitPercentage'\n",
        "\n",
        "  df_questions = df_questions.groupby(['question','difficulty']).count().reset_index() # agrupando por questão e dificuldade\n",
        "  df_questions = df_questions.groupby(['difficulty'])['question'].count().reset_index() # contando quantas questões por dificuldade existem\n",
        "  df_questions.rename(columns={'question':'totalQuestions'},inplace=True) # renomeando coluna 'question'\n",
        "\n",
        "\n",
        "  df_difficulty_performance = addData(df_difficulty_performance, df_difficulty_performance['difficulty'].unique(), df_difficulty_performance['user'].unique()  ) # chamando função para adicionar dados faltantes\n",
        "  df_difficulty_performance = df_difficulty_performance.merge(df_questions, on = 'difficulty', how = 'outer') # juntando o dataframe principal com o de contagem de questões\n",
        "  df_difficulty_performance.replace(np.NaN, 0 , inplace = True)\n",
        "  df_difficulty_performance['averageDifficulty'] = df_difficulty_performance['totalHitPercentage'] / df_difficulty_performance['totalQuestions'] # adicionando coluna da média por dificuldade\n",
        "  df_difficulty_performance = df_difficulty_performance.sort_values(['user','difficulty']) # ordernando o dataframe por nome e dificuldade\n",
        "\n",
        "  return df_difficulty_performance"
      ]
    },
    {
      "cell_type": "code",
      "execution_count": null,
      "metadata": {},
      "outputs": [],
      "source": [
        "# como a função é chamada : performance_difficulty_list_test(df_submission, df_questions_selected,'list')\n",
        "\n",
        "def performance_difficulty_list_test(df_submission, df_questions_selected, listORtest = 'list'):\n",
        "  #Selecionando apenas as questões de lista\n",
        "  if listORtest == 'list':\n",
        "    df_questions_selected = df_questions_selected.dropna(subset=['list'])\n",
        "  #Selecionando apenas as questões de prova\n",
        "  elif listORtest == 'test':\n",
        "    df_questions_selected = df_questions_selected.dropna(subset=['test'])\n",
        "  #Porcentagem máxima por questão\n",
        "  df_performance = df_submission.groupby(['user','registration','question'])['hitPercentage'].max().reset_index()\n",
        "  #Questão e a sua dificuldade associada\n",
        "  df_questions_selected = df_questions_selected.groupby(['difficulty','question'])['id_list'].count().reset_index().copy()\n",
        "  #Contando numero de questoes\n",
        "  df_total_questions = df_questions_selected.groupby(['difficulty'])['question'].count().reset_index(name='totalQuestions')\n",
        "  #Merge\n",
        "  df_performance = pd.merge(df_performance, df_questions_selected.drop(columns='id_list'), on='question')\n",
        "  #Somando as porcentagens de acerto por dificuldade para cada aluno\n",
        "  df_performance = df_performance.groupby(['user','registration','difficulty'])['hitPercentage'].sum().reset_index(name='totalHitPercentage')\n",
        "  #Conversão de float para inteiro\n",
        "  df_performance['difficulty'] = df_performance['difficulty'].astype('int')\n",
        "  #Lista de alunos\n",
        "  df_without_duplicates = df_submission.drop_duplicates(subset=['registration'])\n",
        "  df_without_duplicates = df_without_duplicates[['user','registration']]\n",
        "  #Laço para fazer que todo aluno tenha as 5 dificuldades\n",
        "  df_prov = pd.DataFrame()\n",
        "  for difficulty in range(1, 6):\n",
        "    df_users = df_without_duplicates.copy()\n",
        "    df_users['difficulty'] = difficulty\n",
        "    df_prov = df_prov.append(df_users)\n",
        "  #Unindo e fazendo que apareça todas as dificuldades\n",
        "  df_performance = pd.merge(df_performance,df_prov, on=['user','registration','difficulty'], how='outer').sort_values(by=['user','registration'])#.fillna(0)\n",
        "  df_performance = pd.merge(df_performance, df_total_questions, on='difficulty', how='outer')#.fillna(0)\n",
        "  #Calculando a média por dificuldade\n",
        "  df_performance['mediaDifficulty'] = df_performance['totalHitPercentage'] / df_performance['totalQuestions']\n",
        "  return df_performance.sort_values(by=['user','registration'])#.fillna(0)"
      ]
    },
    {
      "cell_type": "code",
      "execution_count": null,
      "metadata": {},
      "outputs": [],
      "source": [
        "performance_difficulty_list_test(df_submission, df_questions, 'list' )"
      ]
    },
    {
      "cell_type": "code",
      "execution_count": null,
      "metadata": {},
      "outputs": [],
      "source": [
        "# como a função é chamada: graph_more_less_difficulty_list_test_class(df_performance_difficulty_list, df_class, data, value = 70.0)\n",
        "\n",
        "def graph_more_less_difficulty_list_test_class(df_performance_difficulty_list_test, df_class, data, value = 70.0):#value == 70 ou outro numero, data == turma em df\n",
        "  #Aqui eu conto, por dificuldade, quantos tiraram mais de % de acerto escolhida\n",
        "  df_more = df_performance_difficulty_list_test[df_performance_difficulty_list_test['mediaDifficulty'] >= value].groupby('difficulty')['mediaDifficulty'].count().reset_index(name='more')\n",
        "  #E nesse conta quantos tiveram menos da % escolhida\n",
        "  df_less = df_performance_difficulty_list_test[df_performance_difficulty_list_test['mediaDifficulty'] < value].groupby('difficulty')['mediaDifficulty'].count().reset_index(name='less')\n",
        "  #Aqui junta ambos os dataframes, usando o outer, que, se por acaso não tiver uma ocorrência de uma lista em um dos dataframes, mesmo assim eles vão ser adicionados, é união dos conjuntos\n",
        "  df_less_more = pd.merge(df_more, df_less, on = 'difficulty', how = 'outer')\n",
        "  #E, se caso acontecer a situação de um não existir, substituimos o nan por 0\n",
        "  df_less_more.replace(np.NaN, 0, inplace = True)\n",
        "    #Aqui junta ambos os dataframes, usando o outer, que, se por acaso não tiver uma ocorrência de uma lista em um dos dataframes, mesmo assim eles vão ser adicionados, é união dos conjuntos\n",
        "  df_less_more = pd.merge(df_more, df_less, on =  'difficulty', how = 'outer')\n",
        "  #E, se caso acontecer a situação de um não existir, substituimos o nan por 0\n",
        "  df_less_more.replace(np.NaN, 0, inplace = True)\n",
        "  #Todas as dificuldades, para caso uma turma não tenha cadastrado todas, aparecer na grafico\n",
        "  difficultys = pd.DataFrame([1,2,3,4,5], columns = ['difficulty'])\n",
        "  df_less_more = pd.merge(df_less_more, difficultys, on = 'difficulty', how = 'outer').fillna(0)\n",
        "  #Total de alunos na turma\n",
        "  total = df_class.loc[df_class['id_class'] == data.iloc[0,0],'studentsCount'].max()\n",
        "  #Faltantes\n",
        "  df_less_more['missing'] = total - (df_less_more['more'] + df_less_more['less'])\n",
        "  #Conversão para inteiro\n",
        "  df_less_more = df_less_more.astype(int)\n",
        "  #Renomeando \n",
        "  df_less_more = df_less_more.replace({'difficulty': {1:\"Muito Fácil\",2:\"Fácil\", 3:\"Médio\",4:\"Difícil\",5:\"Muito Difícil\"} })\n",
        "  return df_less_more#.to_json(force_ascii=False, orient='records')"
      ]
    },
    {
      "cell_type": "code",
      "execution_count": null,
      "metadata": {},
      "outputs": [],
      "source": [
        "# como a função é chamada : graph_performance_student_difficulty_list_test(df_performance_difficulty_list, df_questions_selected)\n",
        "\n",
        "def graph_performance_student_difficulty_list_test(df_performance_difficulty_list_test,df_questions_selected):\n",
        "  #Total de assuntos\n",
        "  total_difficulties = df_questions_selected['difficulty'].value_counts().count()\n",
        "  #Media geral por aluno\n",
        "  df_student_media = (df_performance_difficulty_list_test.groupby(['registration'])['mediaDifficulty'].sum() / total_difficulties).reset_index(name='studentMediaDifficulty')\n",
        "  #Retirando colunas desnecessárias\n",
        "  df_graph = df_performance_difficulty_list_test.sort_values(by='user').drop(columns=['totalHitPercentage','totalQuestions'])\n",
        "  #Merge\n",
        "  df_graph = pd.merge(df_graph, df_student_media, on='registration')\n",
        "  #Ordenando\n",
        "  df_graph.sort_values(by=['user','registration','difficulty'], inplace = True)\n",
        "  return df_graph.fillna(0)#.to_json(force_ascii=False,orient='records')"
      ]
    },
    {
      "cell_type": "code",
      "execution_count": null,
      "metadata": {},
      "outputs": [],
      "source": [
        "# como a função é chamada : media_graph_performance_student_difficulty_list_test(df_performance_difficulty_list,data, df_class)\n",
        "\n",
        "def media_graph_performance_student_difficulty_list_test(df_performance_difficulty_list_test,data, df_class):\n",
        "  #Número de alunos na turma\n",
        "  total_students = df_class.loc[df_class['id_class'].str.contains(data.iloc[0,0]),'studentsCount'].max()\n",
        "  #Media (dos que fizeram ao menos 1 submissão) por dificuldade na turma\n",
        "  df_mean_difficulty = (df_performance_difficulty_list.groupby(['difficulty'])['mediaDifficulty'].sum() / total_students).reset_index(name='mediaDifficultyClass')\n",
        "  return df_mean_difficulty"
      ]
    },
    {
      "cell_type": "code",
      "execution_count": null,
      "metadata": {},
      "outputs": [],
      "source": [
        "def graph_days_spent_difficulty(df_submission,df_question_data,df_lop_lists):#Histogram\n",
        "  #Fazendo o merge para pegar a coluna dificuldade\n",
        "  df_submission = df_submission.merge(select_questions(df_question_data, df_lop_lists)[:][['question','difficulty']], on = 'question', how = 'inner')\n",
        "  #Convertendo para datetime\n",
        "  df_submission['createdAt'] = pd.to_datetime(df_submission['createdAt'])\n",
        "  #Criando campo com a data\n",
        "  df_submission['dateSubmission'] = df_submission['createdAt'].dt.date\n",
        "  #Conversão de ms para s\n",
        "  df_submission['timeInSecounds'] = df_submission['timeConsuming'].divide(1000).astype(int)\n",
        "  #Dataframe sem duplicatas e com tempo maior que 0\n",
        "  df_without_duplicates = df_submission[df_submission[\"timeInSecounds\"] > 0].drop(['environment','hitPercentage','timeConsuming','createdAt','timeInSecounds','char_change_number'], axis=1).drop_duplicates()\n",
        "  #Calculando em quantos dias diferentes a dificuldade foi submetida por aluno\n",
        "  df_different_days_difficulties = df_without_duplicates.groupby(['user','registration','difficulty'])['dateSubmission'].count().reset_index(name='differentDaysList')\n",
        "  return df_different_days_difficulties#.to_json(\"graph_days_spent_difficulty.json\",force_ascii=False,orient='records')\n"
      ]
    },
    {
      "cell_type": "code",
      "execution_count": null,
      "metadata": {},
      "outputs": [],
      "source": [
        "# 1: Assume-se que a coluna numérica de interesse p/ calcular a média é sempre a última, e não pode haver mais de uma coluna numérica de média no mesmo df.\n",
        "# 2: Assume-se que a variável \"ordered_dfs_list\" terá todos os seus dataframes se tratando da mesma coisa, e com as mesmas colunas.\n",
        "# 3: Deve-se chamar a função da seguinte forma: graphWeightedAverage([df1.copy(),df2.copy()]). Caso não seja atribuido uma lista de pesos (ordered_weight_list = [x,y,z], se faz uma média aritmética.)\n",
        "\n",
        "def graphWeightedAverage(ordered_dfs_list,ordered_weight_list=None,subjects=subjects.copy()):\n",
        "\n",
        "  number_of_dfs = len(ordered_dfs_list) # calcula o número de dfs passados em ordered_dfs_list\n",
        "\n",
        "  initial_column_names = ordered_dfs_list[0].columns.tolist() # armazena o nome das colunas no df antes de manipular\n",
        "  last_column_name = initial_column_names[-1] # armazena o nome da última coluna (que é a numérica de interesse p/ calcular a média)\n",
        "\n",
        "  # Etapa para checar se tá tudo ok com os pesos, e atribuir um valor default caso não tenha sido especificado\n",
        "  if ordered_weight_list == None:\n",
        "    ordered_weight_list = [0.5]*number_of_dfs # default\n",
        "  elif number_of_dfs != len(ordered_weight_list):\n",
        "      raise ValueError('Both lists must have the same length')\n",
        "      return\n",
        "\n",
        "  for i in range(0,number_of_dfs): # varrendo todos os dfs da lista (um for bem pequeno. Atualmente, apenas 2 loops)\n",
        "    if 'registration' in ordered_dfs_list[i].columns.tolist(): # etapa necessária para lidar com o problema do lop de conseguir inserir caractere na matricula\n",
        "      ordered_dfs_list[i][\"registration\"] = ordered_dfs_list[i][\"registration\"].astype(str)\n",
        "\n",
        "    #ordered_dfs_list[i][\"df_id\"] = i\n",
        "    ordered_dfs_list[i][\"weight\"] = ordered_weight_list[i] # atribui o respectivo peso para cada linha do df\n",
        "\n",
        "    if i < 1: # concatena todos os dfs da lista\n",
        "      df = ordered_dfs_list[0]\n",
        "    else:\n",
        "      df = pd.concat([df,ordered_dfs_list[i]])\n",
        "\n",
        "\n",
        "  df[last_column_name] = df[last_column_name] * df[\"weight\"] # multiplica a coluna de interesse pelo peso\n",
        "\n",
        "  #as etapas a seguir são necessárias para eliminar o problema de haver assuntos na lista de exercícios e não haver na lista de provas, por exemplo.\n",
        "  #desse modo, caso exista em um e não no outro, ignora-se o peso do elemento faltante no cálculo da média.\n",
        "  student_weight_list = df.groupby(initial_column_names[:-1])[\"weight\"].sum().reset_index().iloc[:,-1] \n",
        "  df = df.groupby(initial_column_names[:-1])[last_column_name].sum().reset_index()\n",
        "  df[last_column_name] = df[last_column_name]/student_weight_list\n",
        "\n",
        "  return df#.to_json(\"df_weighted_average_all_subjects.json\",force_ascii=False, orient='records')"
      ]
    },
    {
      "cell_type": "code",
      "execution_count": 105,
      "metadata": {},
      "outputs": [],
      "source": [
        "data = pd.DataFrame(['8394d1cb-86b5-4b90-bc62-4b9b192a81f6'], columns = ['id_class'])"
      ]
    },
    {
      "cell_type": "code",
      "execution_count": 106,
      "metadata": {},
      "outputs": [],
      "source": [
        "df_question_data = question_data()"
      ]
    },
    {
      "cell_type": "code",
      "execution_count": 107,
      "metadata": {},
      "outputs": [],
      "source": [
        "df_lop_lists = lop_lists(turma)"
      ]
    },
    {
      "cell_type": "code",
      "execution_count": 108,
      "metadata": {},
      "outputs": [],
      "source": [
        "df_questions_selected = select_questions(df_question_data, df_lop_lists)"
      ]
    },
    {
      "cell_type": "code",
      "execution_count": 110,
      "metadata": {},
      "outputs": [],
      "source": [
        "def performance_difficulty_list_test(df_submission, df_questions_selected, listORtest = 'list'):\n",
        "  #Selecionando apenas as questões de lista\n",
        "  if listORtest == 'list':\n",
        "    df_questions_selected = df_questions_selected.dropna(subset=['list'])\n",
        "  #Selecionando apenas as questões de prova\n",
        "  elif listORtest == 'test':\n",
        "    df_questions_selected = df_questions_selected.dropna(subset=['test'])\n",
        "  #Porcentagem máxima por questão\n",
        "  df_performance = df_submission.groupby(['user','registration','question'])['hitPercentage'].max().reset_index()\n",
        "  #Questão e a sua dificuldade associada\n",
        "  df_questions_selected = df_questions_selected.groupby(['difficulty','question'])['id_list'].count().reset_index().copy()\n",
        "  #Contando numero de questoes\n",
        "  df_total_questions = df_questions_selected.groupby(['difficulty'])['question'].count().reset_index(name='totalQuestions')\n",
        "  #Merge\n",
        "  df_performance = pd.merge(df_performance, df_questions_selected.drop(columns='id_list'),on='question')\n",
        "  #Somando as porcentagens de acerto por dificuldade para cada aluno\n",
        "  df_performance = df_performance.groupby(['user','registration','difficulty'])['hitPercentage'].sum().reset_index(name='totalHitPercentage')\n",
        "  #Conversão de float para inteiro\n",
        "  df_performance['difficulty'] = df_performance['difficulty'].astype('int')\n",
        "  #Lista de alunos\n",
        "  df_without_duplicates = df_submission.drop_duplicates(subset=['registration'])\n",
        "  df_without_duplicates = df_without_duplicates[['user','registration']]\n",
        "  #Laço para fazer que todo aluno tenha as 5 dificuldades\n",
        "  df_prov = pd.DataFrame()\n",
        "  for difficulty in range(1, 6):\n",
        "    df_users = df_without_duplicates.copy()\n",
        "    df_users['difficulty'] = difficulty\n",
        "    df_prov = df_prov.append(df_users)\n",
        "  #Unindo e fazendo que apareça todas as dificuldades\n",
        "  df_performance = pd.merge(df_performance,df_prov, on=['user','registration','difficulty'], how='outer').sort_values(by=['user','registration'])#.fillna(0)\n",
        "  df_performance = pd.merge(df_performance, df_total_questions, on='difficulty', how='outer')#.fillna(0)\n",
        "  #Calculando a média por dificuldade\n",
        "  df_performance['mediaDifficulty'] = df_performance['totalHitPercentage'] / df_performance['totalQuestions']\n",
        "  return df_performance.sort_values(by=['user','registration'])#.fillna(0)"
      ]
    },
    {
      "cell_type": "code",
      "execution_count": 111,
      "metadata": {},
      "outputs": [],
      "source": [
        "df_submission = lop_submission(pd.DataFrame(turma, columns = ['id_class']))"
      ]
    },
    {
      "cell_type": "code",
      "execution_count": 112,
      "metadata": {},
      "outputs": [
        {
          "output_type": "execute_result",
          "data": {
            "text/plain": [
              "                           user  registration  \\\n",
              "0     Alanderson Dias da Silva    20200079821   \n",
              "1     Alanderson Dias da Silva    20200079821   \n",
              "2     Alanderson Dias da Silva    20200079821   \n",
              "3     Alanderson Dias da Silva    20200079821   \n",
              "4     Alanderson Dias da Silva    20200079821   \n",
              "...                         ...           ...   \n",
              "4252                  magnnwsb    20200082424   \n",
              "4253                  magnnwsb    20200082424   \n",
              "4254                  magnnwsb    20200082424   \n",
              "4255                  magnnwsb    20200082424   \n",
              "4256                  magnnwsb    20200082424   \n",
              "\n",
              "                                question  hitPercentage  \n",
              "0                 Altura abaixo da média          100.0  \n",
              "1                  Altura acima de média          100.0  \n",
              "2        Calculando expressões - parte 1          100.0  \n",
              "3        Calculando expressões - parte 2          100.0  \n",
              "4        Calculando expressões - parte 3          100.0  \n",
              "...                                  ...            ...  \n",
              "4252                Troca de dígitos UCD          100.0  \n",
              "4253                Troca de dígitos UDC          100.0  \n",
              "4254    Troca de valores entre variáveis          100.0  \n",
              "4255  Área e Volume do círculo de raio R          100.0  \n",
              "4256           É preciso praticar muito!          100.0  \n",
              "\n",
              "[4257 rows x 4 columns]"
            ],
            "text/html": "<div>\n<style scoped>\n    .dataframe tbody tr th:only-of-type {\n        vertical-align: middle;\n    }\n\n    .dataframe tbody tr th {\n        vertical-align: top;\n    }\n\n    .dataframe thead th {\n        text-align: right;\n    }\n</style>\n<table border=\"1\" class=\"dataframe\">\n  <thead>\n    <tr style=\"text-align: right;\">\n      <th></th>\n      <th>user</th>\n      <th>registration</th>\n      <th>question</th>\n      <th>hitPercentage</th>\n    </tr>\n  </thead>\n  <tbody>\n    <tr>\n      <th>0</th>\n      <td>Alanderson Dias da Silva</td>\n      <td>20200079821</td>\n      <td>Altura abaixo da média</td>\n      <td>100.0</td>\n    </tr>\n    <tr>\n      <th>1</th>\n      <td>Alanderson Dias da Silva</td>\n      <td>20200079821</td>\n      <td>Altura acima de média</td>\n      <td>100.0</td>\n    </tr>\n    <tr>\n      <th>2</th>\n      <td>Alanderson Dias da Silva</td>\n      <td>20200079821</td>\n      <td>Calculando expressões - parte 1</td>\n      <td>100.0</td>\n    </tr>\n    <tr>\n      <th>3</th>\n      <td>Alanderson Dias da Silva</td>\n      <td>20200079821</td>\n      <td>Calculando expressões - parte 2</td>\n      <td>100.0</td>\n    </tr>\n    <tr>\n      <th>4</th>\n      <td>Alanderson Dias da Silva</td>\n      <td>20200079821</td>\n      <td>Calculando expressões - parte 3</td>\n      <td>100.0</td>\n    </tr>\n    <tr>\n      <th>...</th>\n      <td>...</td>\n      <td>...</td>\n      <td>...</td>\n      <td>...</td>\n    </tr>\n    <tr>\n      <th>4252</th>\n      <td>magnnwsb</td>\n      <td>20200082424</td>\n      <td>Troca de dígitos UCD</td>\n      <td>100.0</td>\n    </tr>\n    <tr>\n      <th>4253</th>\n      <td>magnnwsb</td>\n      <td>20200082424</td>\n      <td>Troca de dígitos UDC</td>\n      <td>100.0</td>\n    </tr>\n    <tr>\n      <th>4254</th>\n      <td>magnnwsb</td>\n      <td>20200082424</td>\n      <td>Troca de valores entre variáveis</td>\n      <td>100.0</td>\n    </tr>\n    <tr>\n      <th>4255</th>\n      <td>magnnwsb</td>\n      <td>20200082424</td>\n      <td>Área e Volume do círculo de raio R</td>\n      <td>100.0</td>\n    </tr>\n    <tr>\n      <th>4256</th>\n      <td>magnnwsb</td>\n      <td>20200082424</td>\n      <td>É preciso praticar muito!</td>\n      <td>100.0</td>\n    </tr>\n  </tbody>\n</table>\n<p>4257 rows × 4 columns</p>\n</div>"
          },
          "metadata": {},
          "execution_count": 112
        }
      ],
      "source": [
        "df_performance = df_submission.groupby(['user','registration','question'])['hitPercentage'].max().reset_index()"
      ]
    },
    {
      "cell_type": "code",
      "execution_count": 113,
      "metadata": {},
      "outputs": [
        {
          "output_type": "execute_result",
          "data": {
            "text/plain": [
              "     difficulty                                           question  id_list\n",
              "0           1.0                             Altura abaixo da média        1\n",
              "1           1.0                              Altura acima de média        1\n",
              "2           1.0  Aprendendo a armazenar vários elementos em um ...        1\n",
              "3           1.0               Aprendendo a usar repetição aninhada        1\n",
              "4           1.0                         Aprendendo a usar um Vetor        1\n",
              "..          ...                                                ...      ...\n",
              "118         4.0                              Qual o dia da semana?        1\n",
              "119         4.0              Raízes de uma equação de segundo grau        1\n",
              "120         4.0                                  Retirar repetidos        1\n",
              "121         5.0                                        Data válida        1\n",
              "122         5.0                                  Soma de fatoriais        1\n",
              "\n",
              "[123 rows x 3 columns]"
            ],
            "text/html": "<div>\n<style scoped>\n    .dataframe tbody tr th:only-of-type {\n        vertical-align: middle;\n    }\n\n    .dataframe tbody tr th {\n        vertical-align: top;\n    }\n\n    .dataframe thead th {\n        text-align: right;\n    }\n</style>\n<table border=\"1\" class=\"dataframe\">\n  <thead>\n    <tr style=\"text-align: right;\">\n      <th></th>\n      <th>difficulty</th>\n      <th>question</th>\n      <th>id_list</th>\n    </tr>\n  </thead>\n  <tbody>\n    <tr>\n      <th>0</th>\n      <td>1.0</td>\n      <td>Altura abaixo da média</td>\n      <td>1</td>\n    </tr>\n    <tr>\n      <th>1</th>\n      <td>1.0</td>\n      <td>Altura acima de média</td>\n      <td>1</td>\n    </tr>\n    <tr>\n      <th>2</th>\n      <td>1.0</td>\n      <td>Aprendendo a armazenar vários elementos em um ...</td>\n      <td>1</td>\n    </tr>\n    <tr>\n      <th>3</th>\n      <td>1.0</td>\n      <td>Aprendendo a usar repetição aninhada</td>\n      <td>1</td>\n    </tr>\n    <tr>\n      <th>4</th>\n      <td>1.0</td>\n      <td>Aprendendo a usar um Vetor</td>\n      <td>1</td>\n    </tr>\n    <tr>\n      <th>...</th>\n      <td>...</td>\n      <td>...</td>\n      <td>...</td>\n    </tr>\n    <tr>\n      <th>118</th>\n      <td>4.0</td>\n      <td>Qual o dia da semana?</td>\n      <td>1</td>\n    </tr>\n    <tr>\n      <th>119</th>\n      <td>4.0</td>\n      <td>Raízes de uma equação de segundo grau</td>\n      <td>1</td>\n    </tr>\n    <tr>\n      <th>120</th>\n      <td>4.0</td>\n      <td>Retirar repetidos</td>\n      <td>1</td>\n    </tr>\n    <tr>\n      <th>121</th>\n      <td>5.0</td>\n      <td>Data válida</td>\n      <td>1</td>\n    </tr>\n    <tr>\n      <th>122</th>\n      <td>5.0</td>\n      <td>Soma de fatoriais</td>\n      <td>1</td>\n    </tr>\n  </tbody>\n</table>\n<p>123 rows × 3 columns</p>\n</div>"
          },
          "metadata": {},
          "execution_count": 113
        }
      ],
      "source": [
        "df_questions_selected2 = df_questions_selected.groupby(['difficulty','question'])['id_list'].count().reset_index().copy()"
      ]
    },
    {
      "cell_type": "code",
      "execution_count": 129,
      "metadata": {},
      "outputs": [
        {
          "output_type": "execute_result",
          "data": {
            "text/plain": [
              "   difficulty  totalQuestions\n",
              "0         1.0              35\n",
              "1         2.0              48\n",
              "2         3.0              32\n",
              "3         4.0               6\n",
              "4         5.0               2"
            ],
            "text/html": "<div>\n<style scoped>\n    .dataframe tbody tr th:only-of-type {\n        vertical-align: middle;\n    }\n\n    .dataframe tbody tr th {\n        vertical-align: top;\n    }\n\n    .dataframe thead th {\n        text-align: right;\n    }\n</style>\n<table border=\"1\" class=\"dataframe\">\n  <thead>\n    <tr style=\"text-align: right;\">\n      <th></th>\n      <th>difficulty</th>\n      <th>totalQuestions</th>\n    </tr>\n  </thead>\n  <tbody>\n    <tr>\n      <th>0</th>\n      <td>1.0</td>\n      <td>35</td>\n    </tr>\n    <tr>\n      <th>1</th>\n      <td>2.0</td>\n      <td>48</td>\n    </tr>\n    <tr>\n      <th>2</th>\n      <td>3.0</td>\n      <td>32</td>\n    </tr>\n    <tr>\n      <th>3</th>\n      <td>4.0</td>\n      <td>6</td>\n    </tr>\n    <tr>\n      <th>4</th>\n      <td>5.0</td>\n      <td>2</td>\n    </tr>\n  </tbody>\n</table>\n</div>"
          },
          "metadata": {},
          "execution_count": 129
        }
      ],
      "source": [
        "df_total_questions = df_questions_selected2.groupby(['difficulty'])['question'].count().reset_index(name='totalQuestions')"
      ]
    },
    {
      "cell_type": "code",
      "execution_count": 130,
      "metadata": {},
      "outputs": [
        {
          "output_type": "execute_result",
          "data": {
            "text/plain": [
              "                                 user  registration                  question  \\\n",
              "0           Alanderson Dias da Silva    20200079821    Altura abaixo da média   \n",
              "1     Ana Augusta de Carvalho Rangel    20200076463    Altura abaixo da média   \n",
              "2       Angelo Ryan Cavalcante Nunes    20200068800    Altura abaixo da média   \n",
              "3                    Antonio Amâncio    20190073238    Altura abaixo da média   \n",
              "4               Arinaldo Alves Filho    20200071529    Altura abaixo da média   \n",
              "...                               ...           ...                       ...   \n",
              "4252               Jhosef Nascimento    20200096662      Número primo ou não?   \n",
              "4253               Jhosef Nascimento    20200096662           Pesando os bois   \n",
              "4254               Jhosef Nascimento    20200096662  Preenchimento de vetor I   \n",
              "4255               Jhosef Nascimento    20200096662         Soma de fatoriais   \n",
              "4256               Jhosef Nascimento    20200096662   Soma de valores ímpares   \n",
              "\n",
              "      hitPercentage  difficulty  \n",
              "0             100.0         1.0  \n",
              "1             100.0         1.0  \n",
              "2             100.0         1.0  \n",
              "3             100.0         1.0  \n",
              "4             100.0         1.0  \n",
              "...             ...         ...  \n",
              "4252          100.0         3.0  \n",
              "4253           40.0         2.0  \n",
              "4254          100.0         1.0  \n",
              "4255          100.0         5.0  \n",
              "4256          100.0         3.0  \n",
              "\n",
              "[4257 rows x 5 columns]"
            ],
            "text/html": "<div>\n<style scoped>\n    .dataframe tbody tr th:only-of-type {\n        vertical-align: middle;\n    }\n\n    .dataframe tbody tr th {\n        vertical-align: top;\n    }\n\n    .dataframe thead th {\n        text-align: right;\n    }\n</style>\n<table border=\"1\" class=\"dataframe\">\n  <thead>\n    <tr style=\"text-align: right;\">\n      <th></th>\n      <th>user</th>\n      <th>registration</th>\n      <th>question</th>\n      <th>hitPercentage</th>\n      <th>difficulty</th>\n    </tr>\n  </thead>\n  <tbody>\n    <tr>\n      <th>0</th>\n      <td>Alanderson Dias da Silva</td>\n      <td>20200079821</td>\n      <td>Altura abaixo da média</td>\n      <td>100.0</td>\n      <td>1.0</td>\n    </tr>\n    <tr>\n      <th>1</th>\n      <td>Ana Augusta de Carvalho Rangel</td>\n      <td>20200076463</td>\n      <td>Altura abaixo da média</td>\n      <td>100.0</td>\n      <td>1.0</td>\n    </tr>\n    <tr>\n      <th>2</th>\n      <td>Angelo Ryan Cavalcante Nunes</td>\n      <td>20200068800</td>\n      <td>Altura abaixo da média</td>\n      <td>100.0</td>\n      <td>1.0</td>\n    </tr>\n    <tr>\n      <th>3</th>\n      <td>Antonio Amâncio</td>\n      <td>20190073238</td>\n      <td>Altura abaixo da média</td>\n      <td>100.0</td>\n      <td>1.0</td>\n    </tr>\n    <tr>\n      <th>4</th>\n      <td>Arinaldo Alves Filho</td>\n      <td>20200071529</td>\n      <td>Altura abaixo da média</td>\n      <td>100.0</td>\n      <td>1.0</td>\n    </tr>\n    <tr>\n      <th>...</th>\n      <td>...</td>\n      <td>...</td>\n      <td>...</td>\n      <td>...</td>\n      <td>...</td>\n    </tr>\n    <tr>\n      <th>4252</th>\n      <td>Jhosef Nascimento</td>\n      <td>20200096662</td>\n      <td>Número primo ou não?</td>\n      <td>100.0</td>\n      <td>3.0</td>\n    </tr>\n    <tr>\n      <th>4253</th>\n      <td>Jhosef Nascimento</td>\n      <td>20200096662</td>\n      <td>Pesando os bois</td>\n      <td>40.0</td>\n      <td>2.0</td>\n    </tr>\n    <tr>\n      <th>4254</th>\n      <td>Jhosef Nascimento</td>\n      <td>20200096662</td>\n      <td>Preenchimento de vetor I</td>\n      <td>100.0</td>\n      <td>1.0</td>\n    </tr>\n    <tr>\n      <th>4255</th>\n      <td>Jhosef Nascimento</td>\n      <td>20200096662</td>\n      <td>Soma de fatoriais</td>\n      <td>100.0</td>\n      <td>5.0</td>\n    </tr>\n    <tr>\n      <th>4256</th>\n      <td>Jhosef Nascimento</td>\n      <td>20200096662</td>\n      <td>Soma de valores ímpares</td>\n      <td>100.0</td>\n      <td>3.0</td>\n    </tr>\n  </tbody>\n</table>\n<p>4257 rows × 5 columns</p>\n</div>"
          },
          "metadata": {},
          "execution_count": 130
        }
      ],
      "source": [
        "df_performance2 = pd.merge(df_performance, df_questions_selected2.drop(columns='id_list') , on='question')"
      ]
    },
    {
      "cell_type": "code",
      "execution_count": 131,
      "metadata": {},
      "outputs": [
        {
          "output_type": "execute_result",
          "data": {
            "text/plain": [
              "                                 user  registration  difficulty  \\\n",
              "0           Alanderson Dias da Silva    20200079821         1.0   \n",
              "1           Alanderson Dias da Silva    20200079821         2.0   \n",
              "2           Alanderson Dias da Silva    20200079821         3.0   \n",
              "3           Alanderson Dias da Silva    20200079821         4.0   \n",
              "4           Alanderson Dias da Silva    20200079821         5.0   \n",
              "..                                ...           ...         ...   \n",
              "364  eduardo guedes de moura calixto    20200001435         5.0   \n",
              "365                         magnnwsb    20200082424         1.0   \n",
              "366                         magnnwsb    20200082424         2.0   \n",
              "367                         magnnwsb    20200082424         3.0   \n",
              "368                         magnnwsb    20200082424         4.0   \n",
              "\n",
              "     totalHitPercentage  \n",
              "0               2200.00  \n",
              "1               2100.00  \n",
              "2               1500.00  \n",
              "3                400.00  \n",
              "4                 87.50  \n",
              "..                  ...  \n",
              "364              100.00  \n",
              "365             1433.33  \n",
              "366             1300.00  \n",
              "367              300.00  \n",
              "368              100.00  \n",
              "\n",
              "[369 rows x 4 columns]"
            ],
            "text/html": "<div>\n<style scoped>\n    .dataframe tbody tr th:only-of-type {\n        vertical-align: middle;\n    }\n\n    .dataframe tbody tr th {\n        vertical-align: top;\n    }\n\n    .dataframe thead th {\n        text-align: right;\n    }\n</style>\n<table border=\"1\" class=\"dataframe\">\n  <thead>\n    <tr style=\"text-align: right;\">\n      <th></th>\n      <th>user</th>\n      <th>registration</th>\n      <th>difficulty</th>\n      <th>totalHitPercentage</th>\n    </tr>\n  </thead>\n  <tbody>\n    <tr>\n      <th>0</th>\n      <td>Alanderson Dias da Silva</td>\n      <td>20200079821</td>\n      <td>1.0</td>\n      <td>2200.00</td>\n    </tr>\n    <tr>\n      <th>1</th>\n      <td>Alanderson Dias da Silva</td>\n      <td>20200079821</td>\n      <td>2.0</td>\n      <td>2100.00</td>\n    </tr>\n    <tr>\n      <th>2</th>\n      <td>Alanderson Dias da Silva</td>\n      <td>20200079821</td>\n      <td>3.0</td>\n      <td>1500.00</td>\n    </tr>\n    <tr>\n      <th>3</th>\n      <td>Alanderson Dias da Silva</td>\n      <td>20200079821</td>\n      <td>4.0</td>\n      <td>400.00</td>\n    </tr>\n    <tr>\n      <th>4</th>\n      <td>Alanderson Dias da Silva</td>\n      <td>20200079821</td>\n      <td>5.0</td>\n      <td>87.50</td>\n    </tr>\n    <tr>\n      <th>...</th>\n      <td>...</td>\n      <td>...</td>\n      <td>...</td>\n      <td>...</td>\n    </tr>\n    <tr>\n      <th>364</th>\n      <td>eduardo guedes de moura calixto</td>\n      <td>20200001435</td>\n      <td>5.0</td>\n      <td>100.00</td>\n    </tr>\n    <tr>\n      <th>365</th>\n      <td>magnnwsb</td>\n      <td>20200082424</td>\n      <td>1.0</td>\n      <td>1433.33</td>\n    </tr>\n    <tr>\n      <th>366</th>\n      <td>magnnwsb</td>\n      <td>20200082424</td>\n      <td>2.0</td>\n      <td>1300.00</td>\n    </tr>\n    <tr>\n      <th>367</th>\n      <td>magnnwsb</td>\n      <td>20200082424</td>\n      <td>3.0</td>\n      <td>300.00</td>\n    </tr>\n    <tr>\n      <th>368</th>\n      <td>magnnwsb</td>\n      <td>20200082424</td>\n      <td>4.0</td>\n      <td>100.00</td>\n    </tr>\n  </tbody>\n</table>\n<p>369 rows × 4 columns</p>\n</div>"
          },
          "metadata": {},
          "execution_count": 131
        }
      ],
      "source": [
        "df_performance3 = df_performance2.groupby(['user','registration','difficulty'])['hitPercentage'].sum().reset_index(name='totalHitPercentage')"
      ]
    },
    {
      "cell_type": "code",
      "execution_count": 132,
      "metadata": {},
      "outputs": [
        {
          "output_type": "execute_result",
          "data": {
            "text/plain": [
              "                                 user  registration  difficulty  \\\n",
              "0           Alanderson Dias da Silva    20200079821           1   \n",
              "1           Alanderson Dias da Silva    20200079821           2   \n",
              "2           Alanderson Dias da Silva    20200079821           3   \n",
              "3           Alanderson Dias da Silva    20200079821           4   \n",
              "4           Alanderson Dias da Silva    20200079821           5   \n",
              "..                                ...           ...         ...   \n",
              "364  eduardo guedes de moura calixto    20200001435           5   \n",
              "365                         magnnwsb    20200082424           1   \n",
              "366                         magnnwsb    20200082424           2   \n",
              "367                         magnnwsb    20200082424           3   \n",
              "368                         magnnwsb    20200082424           4   \n",
              "\n",
              "     totalHitPercentage  \n",
              "0               2200.00  \n",
              "1               2100.00  \n",
              "2               1500.00  \n",
              "3                400.00  \n",
              "4                 87.50  \n",
              "..                  ...  \n",
              "364              100.00  \n",
              "365             1433.33  \n",
              "366             1300.00  \n",
              "367              300.00  \n",
              "368              100.00  \n",
              "\n",
              "[369 rows x 4 columns]"
            ],
            "text/html": "<div>\n<style scoped>\n    .dataframe tbody tr th:only-of-type {\n        vertical-align: middle;\n    }\n\n    .dataframe tbody tr th {\n        vertical-align: top;\n    }\n\n    .dataframe thead th {\n        text-align: right;\n    }\n</style>\n<table border=\"1\" class=\"dataframe\">\n  <thead>\n    <tr style=\"text-align: right;\">\n      <th></th>\n      <th>user</th>\n      <th>registration</th>\n      <th>difficulty</th>\n      <th>totalHitPercentage</th>\n    </tr>\n  </thead>\n  <tbody>\n    <tr>\n      <th>0</th>\n      <td>Alanderson Dias da Silva</td>\n      <td>20200079821</td>\n      <td>1</td>\n      <td>2200.00</td>\n    </tr>\n    <tr>\n      <th>1</th>\n      <td>Alanderson Dias da Silva</td>\n      <td>20200079821</td>\n      <td>2</td>\n      <td>2100.00</td>\n    </tr>\n    <tr>\n      <th>2</th>\n      <td>Alanderson Dias da Silva</td>\n      <td>20200079821</td>\n      <td>3</td>\n      <td>1500.00</td>\n    </tr>\n    <tr>\n      <th>3</th>\n      <td>Alanderson Dias da Silva</td>\n      <td>20200079821</td>\n      <td>4</td>\n      <td>400.00</td>\n    </tr>\n    <tr>\n      <th>4</th>\n      <td>Alanderson Dias da Silva</td>\n      <td>20200079821</td>\n      <td>5</td>\n      <td>87.50</td>\n    </tr>\n    <tr>\n      <th>...</th>\n      <td>...</td>\n      <td>...</td>\n      <td>...</td>\n      <td>...</td>\n    </tr>\n    <tr>\n      <th>364</th>\n      <td>eduardo guedes de moura calixto</td>\n      <td>20200001435</td>\n      <td>5</td>\n      <td>100.00</td>\n    </tr>\n    <tr>\n      <th>365</th>\n      <td>magnnwsb</td>\n      <td>20200082424</td>\n      <td>1</td>\n      <td>1433.33</td>\n    </tr>\n    <tr>\n      <th>366</th>\n      <td>magnnwsb</td>\n      <td>20200082424</td>\n      <td>2</td>\n      <td>1300.00</td>\n    </tr>\n    <tr>\n      <th>367</th>\n      <td>magnnwsb</td>\n      <td>20200082424</td>\n      <td>3</td>\n      <td>300.00</td>\n    </tr>\n    <tr>\n      <th>368</th>\n      <td>magnnwsb</td>\n      <td>20200082424</td>\n      <td>4</td>\n      <td>100.00</td>\n    </tr>\n  </tbody>\n</table>\n<p>369 rows × 4 columns</p>\n</div>"
          },
          "metadata": {},
          "execution_count": 132
        }
      ],
      "source": [
        "  df_performance3['difficulty'] = df_performance3['difficulty'].astype('int')\n"
      ]
    },
    {
      "cell_type": "code",
      "execution_count": 133,
      "metadata": {},
      "outputs": [
        {
          "output_type": "execute_result",
          "data": {
            "text/plain": [
              "                                 user  registration\n",
              "0                        Josué Anuar    20200073425\n",
              "2                       Sara Moreira    20200078904\n",
              "3                      Nathan Telles    20180146330\n",
              "5                        Jean Magnus    20200080063\n",
              "6                            Natália    20200073882\n",
              "...                               ...           ...\n",
              "10440                     Toane Lima    20200082200\n",
              "11113             Igor Rosberg Aluno       00000000\n",
              "13446           Fabio Gomes da Silva    20200075887\n",
              "13660              Jardean Fernandes    20200076104\n",
              "17419  Paulo Felipe Câmara de Macedo    20200073087\n",
              "\n",
              "[87 rows x 2 columns]"
            ],
            "text/html": "<div>\n<style scoped>\n    .dataframe tbody tr th:only-of-type {\n        vertical-align: middle;\n    }\n\n    .dataframe tbody tr th {\n        vertical-align: top;\n    }\n\n    .dataframe thead th {\n        text-align: right;\n    }\n</style>\n<table border=\"1\" class=\"dataframe\">\n  <thead>\n    <tr style=\"text-align: right;\">\n      <th></th>\n      <th>user</th>\n      <th>registration</th>\n    </tr>\n  </thead>\n  <tbody>\n    <tr>\n      <th>0</th>\n      <td>Josué Anuar</td>\n      <td>20200073425</td>\n    </tr>\n    <tr>\n      <th>2</th>\n      <td>Sara Moreira</td>\n      <td>20200078904</td>\n    </tr>\n    <tr>\n      <th>3</th>\n      <td>Nathan Telles</td>\n      <td>20180146330</td>\n    </tr>\n    <tr>\n      <th>5</th>\n      <td>Jean Magnus</td>\n      <td>20200080063</td>\n    </tr>\n    <tr>\n      <th>6</th>\n      <td>Natália</td>\n      <td>20200073882</td>\n    </tr>\n    <tr>\n      <th>...</th>\n      <td>...</td>\n      <td>...</td>\n    </tr>\n    <tr>\n      <th>10440</th>\n      <td>Toane Lima</td>\n      <td>20200082200</td>\n    </tr>\n    <tr>\n      <th>11113</th>\n      <td>Igor Rosberg Aluno</td>\n      <td>00000000</td>\n    </tr>\n    <tr>\n      <th>13446</th>\n      <td>Fabio Gomes da Silva</td>\n      <td>20200075887</td>\n    </tr>\n    <tr>\n      <th>13660</th>\n      <td>Jardean Fernandes</td>\n      <td>20200076104</td>\n    </tr>\n    <tr>\n      <th>17419</th>\n      <td>Paulo Felipe Câmara de Macedo</td>\n      <td>20200073087</td>\n    </tr>\n  </tbody>\n</table>\n<p>87 rows × 2 columns</p>\n</div>"
          },
          "metadata": {},
          "execution_count": 133
        }
      ],
      "source": [
        "df_without_duplicates = df_submission.drop_duplicates(subset=['registration'])\n",
        "df_without_duplicates = df_without_duplicates[['user','registration']]"
      ]
    },
    {
      "cell_type": "code",
      "execution_count": 134,
      "metadata": {},
      "outputs": [],
      "source": [
        "df_prov = pd.DataFrame()\n"
      ]
    },
    {
      "cell_type": "code",
      "execution_count": 135,
      "metadata": {},
      "outputs": [
        {
          "output_type": "execute_result",
          "data": {
            "text/plain": [
              "                                 user  registration  difficulty\n",
              "0                        Josué Anuar    20200073425           1\n",
              "2                       Sara Moreira    20200078904           1\n",
              "3                      Nathan Telles    20180146330           1\n",
              "5                        Jean Magnus    20200080063           1\n",
              "6                            Natália    20200073882           1\n",
              "...                               ...           ...         ...\n",
              "10440                     Toane Lima    20200082200           5\n",
              "11113             Igor Rosberg Aluno       00000000           5\n",
              "13446           Fabio Gomes da Silva    20200075887           5\n",
              "13660              Jardean Fernandes    20200076104           5\n",
              "17419  Paulo Felipe Câmara de Macedo    20200073087           5\n",
              "\n",
              "[435 rows x 3 columns]"
            ],
            "text/html": "<div>\n<style scoped>\n    .dataframe tbody tr th:only-of-type {\n        vertical-align: middle;\n    }\n\n    .dataframe tbody tr th {\n        vertical-align: top;\n    }\n\n    .dataframe thead th {\n        text-align: right;\n    }\n</style>\n<table border=\"1\" class=\"dataframe\">\n  <thead>\n    <tr style=\"text-align: right;\">\n      <th></th>\n      <th>user</th>\n      <th>registration</th>\n      <th>difficulty</th>\n    </tr>\n  </thead>\n  <tbody>\n    <tr>\n      <th>0</th>\n      <td>Josué Anuar</td>\n      <td>20200073425</td>\n      <td>1</td>\n    </tr>\n    <tr>\n      <th>2</th>\n      <td>Sara Moreira</td>\n      <td>20200078904</td>\n      <td>1</td>\n    </tr>\n    <tr>\n      <th>3</th>\n      <td>Nathan Telles</td>\n      <td>20180146330</td>\n      <td>1</td>\n    </tr>\n    <tr>\n      <th>5</th>\n      <td>Jean Magnus</td>\n      <td>20200080063</td>\n      <td>1</td>\n    </tr>\n    <tr>\n      <th>6</th>\n      <td>Natália</td>\n      <td>20200073882</td>\n      <td>1</td>\n    </tr>\n    <tr>\n      <th>...</th>\n      <td>...</td>\n      <td>...</td>\n      <td>...</td>\n    </tr>\n    <tr>\n      <th>10440</th>\n      <td>Toane Lima</td>\n      <td>20200082200</td>\n      <td>5</td>\n    </tr>\n    <tr>\n      <th>11113</th>\n      <td>Igor Rosberg Aluno</td>\n      <td>00000000</td>\n      <td>5</td>\n    </tr>\n    <tr>\n      <th>13446</th>\n      <td>Fabio Gomes da Silva</td>\n      <td>20200075887</td>\n      <td>5</td>\n    </tr>\n    <tr>\n      <th>13660</th>\n      <td>Jardean Fernandes</td>\n      <td>20200076104</td>\n      <td>5</td>\n    </tr>\n    <tr>\n      <th>17419</th>\n      <td>Paulo Felipe Câmara de Macedo</td>\n      <td>20200073087</td>\n      <td>5</td>\n    </tr>\n  </tbody>\n</table>\n<p>435 rows × 3 columns</p>\n</div>"
          },
          "metadata": {},
          "execution_count": 135
        }
      ],
      "source": [
        "for difficulty in range(1, 6):\n",
        "    df_users = df_without_duplicates.copy()\n",
        "    df_users['difficulty'] = difficulty\n",
        "    df_prov = df_prov.append(df_users)"
      ]
    },
    {
      "cell_type": "code",
      "execution_count": 136,
      "metadata": {},
      "outputs": [
        {
          "output_type": "execute_result",
          "data": {
            "text/plain": [
              "                          user  registration  difficulty  totalHitPercentage\n",
              "0    Alanderson Dias da Silva    20200079821           1             2200.00\n",
              "1    Alanderson Dias da Silva    20200079821           2             2100.00\n",
              "2    Alanderson Dias da Silva    20200079821           3             1500.00\n",
              "3    Alanderson Dias da Silva    20200079821           4              400.00\n",
              "4    Alanderson Dias da Silva    20200079821           5               87.50\n",
              "..                         ...           ...         ...                 ...\n",
              "365                  magnnwsb    20200082424           1             1433.33\n",
              "366                  magnnwsb    20200082424           2             1300.00\n",
              "367                  magnnwsb    20200082424           3              300.00\n",
              "368                  magnnwsb    20200082424           4              100.00\n",
              "404                  magnnwsb    20200082424           5                 NaN\n",
              "\n",
              "[435 rows x 4 columns]"
            ],
            "text/html": "<div>\n<style scoped>\n    .dataframe tbody tr th:only-of-type {\n        vertical-align: middle;\n    }\n\n    .dataframe tbody tr th {\n        vertical-align: top;\n    }\n\n    .dataframe thead th {\n        text-align: right;\n    }\n</style>\n<table border=\"1\" class=\"dataframe\">\n  <thead>\n    <tr style=\"text-align: right;\">\n      <th></th>\n      <th>user</th>\n      <th>registration</th>\n      <th>difficulty</th>\n      <th>totalHitPercentage</th>\n    </tr>\n  </thead>\n  <tbody>\n    <tr>\n      <th>0</th>\n      <td>Alanderson Dias da Silva</td>\n      <td>20200079821</td>\n      <td>1</td>\n      <td>2200.00</td>\n    </tr>\n    <tr>\n      <th>1</th>\n      <td>Alanderson Dias da Silva</td>\n      <td>20200079821</td>\n      <td>2</td>\n      <td>2100.00</td>\n    </tr>\n    <tr>\n      <th>2</th>\n      <td>Alanderson Dias da Silva</td>\n      <td>20200079821</td>\n      <td>3</td>\n      <td>1500.00</td>\n    </tr>\n    <tr>\n      <th>3</th>\n      <td>Alanderson Dias da Silva</td>\n      <td>20200079821</td>\n      <td>4</td>\n      <td>400.00</td>\n    </tr>\n    <tr>\n      <th>4</th>\n      <td>Alanderson Dias da Silva</td>\n      <td>20200079821</td>\n      <td>5</td>\n      <td>87.50</td>\n    </tr>\n    <tr>\n      <th>...</th>\n      <td>...</td>\n      <td>...</td>\n      <td>...</td>\n      <td>...</td>\n    </tr>\n    <tr>\n      <th>365</th>\n      <td>magnnwsb</td>\n      <td>20200082424</td>\n      <td>1</td>\n      <td>1433.33</td>\n    </tr>\n    <tr>\n      <th>366</th>\n      <td>magnnwsb</td>\n      <td>20200082424</td>\n      <td>2</td>\n      <td>1300.00</td>\n    </tr>\n    <tr>\n      <th>367</th>\n      <td>magnnwsb</td>\n      <td>20200082424</td>\n      <td>3</td>\n      <td>300.00</td>\n    </tr>\n    <tr>\n      <th>368</th>\n      <td>magnnwsb</td>\n      <td>20200082424</td>\n      <td>4</td>\n      <td>100.00</td>\n    </tr>\n    <tr>\n      <th>404</th>\n      <td>magnnwsb</td>\n      <td>20200082424</td>\n      <td>5</td>\n      <td>NaN</td>\n    </tr>\n  </tbody>\n</table>\n<p>435 rows × 4 columns</p>\n</div>"
          },
          "metadata": {},
          "execution_count": 136
        }
      ],
      "source": [
        "df_performance4 = pd.merge(df_performance3,df_prov, on=['user','registration','difficulty'], how='outer').sort_values(by=['user','registration'])#.fillna(0)"
      ]
    },
    {
      "cell_type": "code",
      "execution_count": 137,
      "metadata": {},
      "outputs": [
        {
          "output_type": "execute_result",
          "data": {
            "text/plain": [
              "                                 user  registration  difficulty  \\\n",
              "0           Alanderson Dias da Silva    20200079821           1   \n",
              "1     Ana Augusta de Carvalho Rangel    20200076463           1   \n",
              "2       Angelo Ryan Cavalcante Nunes    20200068800           1   \n",
              "3            Anthony da costa aquino    20180029737           1   \n",
              "4                    Antonio Amâncio    20190073238           1   \n",
              "..                                ...           ...         ...   \n",
              "430                 Wellington Toldo    20200070147           5   \n",
              "431   bernardo leitao da costa pinto    20200080662           5   \n",
              "432                            bruno    20200102705           5   \n",
              "433  eduardo guedes de moura calixto    20200001435           5   \n",
              "434                         magnnwsb    20200082424           5   \n",
              "\n",
              "     totalHitPercentage  totalQuestions  \n",
              "0                2200.0              35  \n",
              "1                1700.0              35  \n",
              "2                2200.0              35  \n",
              "3                1000.0              35  \n",
              "4                2200.0              35  \n",
              "..                  ...             ...  \n",
              "430                 NaN               2  \n",
              "431               100.0               2  \n",
              "432                 NaN               2  \n",
              "433               100.0               2  \n",
              "434                 NaN               2  \n",
              "\n",
              "[435 rows x 5 columns]"
            ],
            "text/html": "<div>\n<style scoped>\n    .dataframe tbody tr th:only-of-type {\n        vertical-align: middle;\n    }\n\n    .dataframe tbody tr th {\n        vertical-align: top;\n    }\n\n    .dataframe thead th {\n        text-align: right;\n    }\n</style>\n<table border=\"1\" class=\"dataframe\">\n  <thead>\n    <tr style=\"text-align: right;\">\n      <th></th>\n      <th>user</th>\n      <th>registration</th>\n      <th>difficulty</th>\n      <th>totalHitPercentage</th>\n      <th>totalQuestions</th>\n    </tr>\n  </thead>\n  <tbody>\n    <tr>\n      <th>0</th>\n      <td>Alanderson Dias da Silva</td>\n      <td>20200079821</td>\n      <td>1</td>\n      <td>2200.0</td>\n      <td>35</td>\n    </tr>\n    <tr>\n      <th>1</th>\n      <td>Ana Augusta de Carvalho Rangel</td>\n      <td>20200076463</td>\n      <td>1</td>\n      <td>1700.0</td>\n      <td>35</td>\n    </tr>\n    <tr>\n      <th>2</th>\n      <td>Angelo Ryan Cavalcante Nunes</td>\n      <td>20200068800</td>\n      <td>1</td>\n      <td>2200.0</td>\n      <td>35</td>\n    </tr>\n    <tr>\n      <th>3</th>\n      <td>Anthony da costa aquino</td>\n      <td>20180029737</td>\n      <td>1</td>\n      <td>1000.0</td>\n      <td>35</td>\n    </tr>\n    <tr>\n      <th>4</th>\n      <td>Antonio Amâncio</td>\n      <td>20190073238</td>\n      <td>1</td>\n      <td>2200.0</td>\n      <td>35</td>\n    </tr>\n    <tr>\n      <th>...</th>\n      <td>...</td>\n      <td>...</td>\n      <td>...</td>\n      <td>...</td>\n      <td>...</td>\n    </tr>\n    <tr>\n      <th>430</th>\n      <td>Wellington Toldo</td>\n      <td>20200070147</td>\n      <td>5</td>\n      <td>NaN</td>\n      <td>2</td>\n    </tr>\n    <tr>\n      <th>431</th>\n      <td>bernardo leitao da costa pinto</td>\n      <td>20200080662</td>\n      <td>5</td>\n      <td>100.0</td>\n      <td>2</td>\n    </tr>\n    <tr>\n      <th>432</th>\n      <td>bruno</td>\n      <td>20200102705</td>\n      <td>5</td>\n      <td>NaN</td>\n      <td>2</td>\n    </tr>\n    <tr>\n      <th>433</th>\n      <td>eduardo guedes de moura calixto</td>\n      <td>20200001435</td>\n      <td>5</td>\n      <td>100.0</td>\n      <td>2</td>\n    </tr>\n    <tr>\n      <th>434</th>\n      <td>magnnwsb</td>\n      <td>20200082424</td>\n      <td>5</td>\n      <td>NaN</td>\n      <td>2</td>\n    </tr>\n  </tbody>\n</table>\n<p>435 rows × 5 columns</p>\n</div>"
          },
          "metadata": {},
          "execution_count": 137
        }
      ],
      "source": [
        "df_performance5 = pd.merge(df_performance4, df_total_questions, on='difficulty', how='outer')#.fillna(0)"
      ]
    },
    {
      "cell_type": "code",
      "execution_count": 156,
      "metadata": {},
      "outputs": [
        {
          "output_type": "execute_result",
          "data": {
            "text/plain": [
              "                                    user  registration  difficulty  \\\n",
              "378                   Jhosef Nascimento    20200096662           5   \n",
              "30                    Jhosef Nascimento    20200096662           1   \n",
              "204                   Jhosef Nascimento    20200096662           3   \n",
              "299        Larissa de Alcântara Pereira    20200072885           4   \n",
              "346     eduardo guedes de moura calixto    20200001435           4   \n",
              "..                                   ...           ...         ...   \n",
              "428                      Viviane Brasil    20200070746           5   \n",
              "429  WALLYSON MATHEUS SOUZA DE OLIVEIRA    20200083341           5   \n",
              "430                    Wellington Toldo    20200070147           5   \n",
              "432                               bruno    20200102705           5   \n",
              "434                            magnnwsb    20200082424           5   \n",
              "\n",
              "     totalHitPercentage  totalQuestions  mediaDifficulty  \n",
              "378               200.0               2       100.000000  \n",
              "30               3200.0              35        91.428571  \n",
              "204              2900.0              32        90.625000  \n",
              "299               500.0               6        83.333333  \n",
              "346               500.0               6        83.333333  \n",
              "..                  ...             ...              ...  \n",
              "428                 NaN               2              NaN  \n",
              "429                 NaN               2              NaN  \n",
              "430                 NaN               2              NaN  \n",
              "432                 NaN               2              NaN  \n",
              "434                 NaN               2              NaN  \n",
              "\n",
              "[435 rows x 6 columns]"
            ],
            "text/html": "<div>\n<style scoped>\n    .dataframe tbody tr th:only-of-type {\n        vertical-align: middle;\n    }\n\n    .dataframe tbody tr th {\n        vertical-align: top;\n    }\n\n    .dataframe thead th {\n        text-align: right;\n    }\n</style>\n<table border=\"1\" class=\"dataframe\">\n  <thead>\n    <tr style=\"text-align: right;\">\n      <th></th>\n      <th>user</th>\n      <th>registration</th>\n      <th>difficulty</th>\n      <th>totalHitPercentage</th>\n      <th>totalQuestions</th>\n      <th>mediaDifficulty</th>\n    </tr>\n  </thead>\n  <tbody>\n    <tr>\n      <th>378</th>\n      <td>Jhosef Nascimento</td>\n      <td>20200096662</td>\n      <td>5</td>\n      <td>200.0</td>\n      <td>2</td>\n      <td>100.000000</td>\n    </tr>\n    <tr>\n      <th>30</th>\n      <td>Jhosef Nascimento</td>\n      <td>20200096662</td>\n      <td>1</td>\n      <td>3200.0</td>\n      <td>35</td>\n      <td>91.428571</td>\n    </tr>\n    <tr>\n      <th>204</th>\n      <td>Jhosef Nascimento</td>\n      <td>20200096662</td>\n      <td>3</td>\n      <td>2900.0</td>\n      <td>32</td>\n      <td>90.625000</td>\n    </tr>\n    <tr>\n      <th>299</th>\n      <td>Larissa de Alcântara Pereira</td>\n      <td>20200072885</td>\n      <td>4</td>\n      <td>500.0</td>\n      <td>6</td>\n      <td>83.333333</td>\n    </tr>\n    <tr>\n      <th>346</th>\n      <td>eduardo guedes de moura calixto</td>\n      <td>20200001435</td>\n      <td>4</td>\n      <td>500.0</td>\n      <td>6</td>\n      <td>83.333333</td>\n    </tr>\n    <tr>\n      <th>...</th>\n      <td>...</td>\n      <td>...</td>\n      <td>...</td>\n      <td>...</td>\n      <td>...</td>\n      <td>...</td>\n    </tr>\n    <tr>\n      <th>428</th>\n      <td>Viviane Brasil</td>\n      <td>20200070746</td>\n      <td>5</td>\n      <td>NaN</td>\n      <td>2</td>\n      <td>NaN</td>\n    </tr>\n    <tr>\n      <th>429</th>\n      <td>WALLYSON MATHEUS SOUZA DE OLIVEIRA</td>\n      <td>20200083341</td>\n      <td>5</td>\n      <td>NaN</td>\n      <td>2</td>\n      <td>NaN</td>\n    </tr>\n    <tr>\n      <th>430</th>\n      <td>Wellington Toldo</td>\n      <td>20200070147</td>\n      <td>5</td>\n      <td>NaN</td>\n      <td>2</td>\n      <td>NaN</td>\n    </tr>\n    <tr>\n      <th>432</th>\n      <td>bruno</td>\n      <td>20200102705</td>\n      <td>5</td>\n      <td>NaN</td>\n      <td>2</td>\n      <td>NaN</td>\n    </tr>\n    <tr>\n      <th>434</th>\n      <td>magnnwsb</td>\n      <td>20200082424</td>\n      <td>5</td>\n      <td>NaN</td>\n      <td>2</td>\n      <td>NaN</td>\n    </tr>\n  </tbody>\n</table>\n<p>435 rows × 6 columns</p>\n</div>"
          },
          "metadata": {},
          "execution_count": 156
        }
      ],
      "source": [
        "df_performance5['mediaDifficulty'] = df_performance5['totalHitPercentage'] / df_performance5['totalQuestions']"
      ]
    },
    {
      "cell_type": "code",
      "execution_count": null,
      "metadata": {},
      "outputs": [],
      "source": [
        "# como a função é chamada: graph_more_less_difficulty_list_test_class(df_performance_difficulty_list, df_class, data, value = 70.0)\n",
        "\n",
        "def graph_more_less_difficulty_list_test_class(df_performance_difficulty_list_test, df_class, data, value = 70.0):#value == 70 ou outro numero, data == turma em df\n",
        "  #Aqui eu conto, por dificuldade, quantos tiraram mais de % de acerto escolhida\n",
        "  df_more = df_performance_difficulty_list_test[df_performance_difficulty_list_test['mediaDifficulty'] >= value].groupby('difficulty')['mediaDifficulty'].count().reset_index(name='more')\n",
        "  #E nesse conta quantos tiveram menos da % escolhida\n",
        "  df_less = df_performance_difficulty_list_test[df_performance_difficulty_list_test['mediaDifficulty'] < value].groupby('difficulty')['mediaDifficulty'].count().reset_index(name='less')\n",
        "  #Aqui junta ambos os dataframes, usando o outer, que, se por acaso não tiver uma ocorrência de uma lista em um dos dataframes, mesmo assim eles vão ser adicionados, é união dos conjuntos\n",
        "  df_less_more = pd.merge(df_more, df_less, on = 'difficulty', how = 'outer')\n",
        "  #E, se caso acontecer a situação de um não existir, substituimos o nan por 0\n",
        "  df_less_more.replace(np.NaN, 0, inplace = True)\n",
        "    #Aqui junta ambos os dataframes, usando o outer, que, se por acaso não tiver uma ocorrência de uma lista em um dos dataframes, mesmo assim eles vão ser adicionados, é união dos conjuntos\n",
        "  df_less_more = pd.merge(df_more, df_less, on =  'difficulty', how = 'outer')\n",
        "  #E, se caso acontecer a situação de um não existir, substituimos o nan por 0\n",
        "  df_less_more.replace(np.NaN, 0, inplace = True)\n",
        "  #Todas as dificuldades, para caso uma turma não tenha cadastrado todas, aparecer na grafico\n",
        "  difficultys = pd.DataFrame([1,2,3,4,5], columns = ['difficulty'])\n",
        "  df_less_more = pd.merge(df_less_more, difficultys, on = 'difficulty', how = 'outer').fillna(0)\n",
        "  #Total de alunos na turma\n",
        "  total = df_class.loc[df_class['id_class'] == data.iloc[0,0],'studentsCount'].max()\n",
        "  #Faltantes\n",
        "  df_less_more['missing'] = total - (df_less_more['more'] + df_less_more['less'])\n",
        "  #Conversão para inteiro\n",
        "  df_less_more = df_less_more.astype(int)\n",
        "  #Renomeando \n",
        "  df_less_more = df_less_more.replace({'difficulty': {1:\"Muito Fácil\",2:\"Fácil\", 3:\"Médio\",4:\"Difícil\",5:\"Muito Difícil\"} })\n",
        "  return df_less_more#.to_json(force_ascii=False, orient='records')"
      ]
    },
    {
      "cell_type": "code",
      "execution_count": 162,
      "metadata": {},
      "outputs": [
        {
          "output_type": "execute_result",
          "data": {
            "text/plain": [
              "      difficulty  more  less  missing\n",
              "0    Muito Fácil    44    43        4\n",
              "1          Fácil     7    79        5\n",
              "2          Médio    13    71        7\n",
              "3        Difícil    48    35        8\n",
              "4  Muito Difícil    23     6       62"
            ],
            "text/html": "<div>\n<style scoped>\n    .dataframe tbody tr th:only-of-type {\n        vertical-align: middle;\n    }\n\n    .dataframe tbody tr th {\n        vertical-align: top;\n    }\n\n    .dataframe thead th {\n        text-align: right;\n    }\n</style>\n<table border=\"1\" class=\"dataframe\">\n  <thead>\n    <tr style=\"text-align: right;\">\n      <th></th>\n      <th>difficulty</th>\n      <th>more</th>\n      <th>less</th>\n      <th>missing</th>\n    </tr>\n  </thead>\n  <tbody>\n    <tr>\n      <th>0</th>\n      <td>Muito Fácil</td>\n      <td>44</td>\n      <td>43</td>\n      <td>4</td>\n    </tr>\n    <tr>\n      <th>1</th>\n      <td>Fácil</td>\n      <td>7</td>\n      <td>79</td>\n      <td>5</td>\n    </tr>\n    <tr>\n      <th>2</th>\n      <td>Médio</td>\n      <td>13</td>\n      <td>71</td>\n      <td>7</td>\n    </tr>\n    <tr>\n      <th>3</th>\n      <td>Difícil</td>\n      <td>48</td>\n      <td>35</td>\n      <td>8</td>\n    </tr>\n    <tr>\n      <th>4</th>\n      <td>Muito Difícil</td>\n      <td>23</td>\n      <td>6</td>\n      <td>62</td>\n    </tr>\n  </tbody>\n</table>\n</div>"
          },
          "metadata": {},
          "execution_count": 162
        }
      ],
      "source": [
        "graph_more_less_difficulty_list_test_class(df_performance5,df_class, data, value = 50.0)"
      ]
    },
    {
      "cell_type": "code",
      "execution_count": null,
      "metadata": {},
      "outputs": [],
      "source": []
    }
  ]
}